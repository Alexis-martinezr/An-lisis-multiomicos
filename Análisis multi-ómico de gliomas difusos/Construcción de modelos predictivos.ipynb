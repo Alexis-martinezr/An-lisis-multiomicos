{
 "cells": [
  {
   "cell_type": "markdown",
   "id": "7fb611ed",
   "metadata": {},
   "source": [
    "# Predicción del Estado de Pacientes con Gliomas Difusos mediante Machine Learning y Biomarcadores Ómicos\n",
    "\n",
    "Este proyecto tiene como objetivo predecir el estado clínico de pacientes con gliomas difusos utilizando datos ómicos (proteómica y transcriptómica) combinados con técnicas de machine learning. Se evaluaron distintos enfoques para la selección de biomarcadores, incluyendo análisis univariado y multivariado, y se implementaron diversos modelos de clasificación para comparar su desempeño predictivo.\n",
    "\n",
    "El propósito principal fue comparar la capacidad de predicción del estado del paciente—y, por extensión, de la agresividad del tumor—usando biomarcadores obtenidos mediante métodos univariados y multivariados, y determinar si existe una diferencia significativa en su poder predictivo. Se buscó identificar el mejor modelo posible, optimizando la precisión mientras se minimiza el número de biomarcadores, con el fin de lograr predicciones confiables a menor costo.\n",
    "\n",
    "Cabe destacar que los resultados podrían mejorar aún más al integrar datos de análisis clínicos tradicionales junto con los biomarcadores ómicos.\n",
    "\n",
    "---\n",
    "\n",
    "## Dataset\n",
    "\n",
    "Se trabajó con datos de expresión proteica y génica de pacientes con gliomas difusos:\n",
    "\n",
    "- **Proteómica:** 174 proteínas relacionadas con señalización y regulación celular.  \n",
    "- **Transcriptómica:** 145 transcritos.  \n",
    "\n",
    "Los datos fueron preprocesados mediante normalización, escalado y, en caso de análisis univariado, imputación de valores faltantes.\n",
    "\n",
    "---\n",
    "\n",
    "## Selección de Biomarcadores\n",
    "\n",
    "### Análisis Univariado\n",
    "\n",
    "Se evaluó la asociación de cada proteína y gen con el outcome clínico individualmente.\n",
    "\n",
    "**Criterios de selección:**\n",
    "\n",
    "- Ajuste de p-value (`adj.P.Val`) < 0.05  \n",
    "- Log2 fold change (`logFC`) para magnitud del cambio  \n",
    "\n",
    "**Ejemplos de resultados:**\n",
    "\n",
    "**Proteínas significativas (adj.P.Val < 0.05)**  \n",
    "\n",
    "| Protein       | adj.P.Val | logFC  |\n",
    "|---------------|-----------|--------|\n",
    "| Src_pY416_p   | 0.0177    | 7.463  |\n",
    "| EGFR_pY1068_p | 0.0037    | 4.844  |\n",
    "| p27_p         | 0.00088   | -3.858 |\n",
    "\n",
    "**Genes significativos**  \n",
    "\n",
    "| Gene.symbol | adj.P.Val | logFC  |\n",
    "|------------|-----------|--------|\n",
    "| STAT5A     | 3.07e-12  | 0.870  |\n",
    "| RPS6KA1    | 5.62e-11  | 0.917  |\n",
    "| SYK        | 4.48e-10  | 0.955  |\n",
    "\n",
    "---\n",
    "\n",
    "### Análisis Multivariado\n",
    "\n",
    "Se integraron datos proteómicos y transcriptómicos usando **Partial Least Squares (PLS)**.  \n",
    "Se calculó **VIP (Variable Importance in Projection)** para identificar variables más relevantes, considerando significativas aquellas con VIP > 1.0.\n",
    "\n",
    "**Ejemplo top 10 proteínas y genes:**\n",
    "\n",
    "**Proteínas relevantes (VIP > 1.0)**  \n",
    "\n",
    "| Rank | Proteína    | VIP   |\n",
    "|------|------------|-------|\n",
    "| 1    | Syk_p       | 2.047 |\n",
    "| 2    | YAP_pS127_p | 1.887 |\n",
    "| 3    | AR_p        | 1.840 |\n",
    "\n",
    "**Genes relevantes (VIP > 1.0)**  \n",
    "\n",
    "| Rank | Gen       | VIP   |\n",
    "|------|-----------|-------|\n",
    "| 1    | STAT5A    | 2.327 |\n",
    "| 2    | YBX1      | 2.326 |\n",
    "| 3    | XRCC1     | 2.197 |\n",
    "\n",
    "---\n",
    "\n",
    "## Modelos de Machine Learning\n",
    "\n",
    "Se construyeron modelos usando distintos conjuntos de biomarcadores:\n",
    "\n",
    "1. **Univariado:** solo biomarcadores obtenidos del análisis univariado  \n",
    "2. **Univariado ampliado:** biomarcadores univariados + número de mutaciones + grado histológico  \n",
    "3. **Multivariado:** biomarcadores obtenidos del análisis multivariado  \n",
    "4. **Multivariado con PCA:** misma selección multivariada, reducida a componentes principales (mejor PCA = 55)  \n",
    "5. **Multivariado VIP > 1.5:** selección de biomarcadores más estricta (VIP > 1.5)  \n",
    "6. **Multivariado VIP > 1.5 + PCA:** reducción PCA (mejor PCA = 25)  \n",
    "\n",
    "**Modelos implementados:**\n",
    "\n",
    "- K-Nearest Neighbors (KNN)  \n",
    "- Regresión Logística  \n",
    "- Random Forest  \n",
    "\n",
    "---\n",
    "\n",
    "## Evaluación de Modelos\n",
    "\n",
    "El desempeño se evaluó mediante:\n",
    "\n",
    "- **AUC-ROC** (área bajo la curva ROC)  \n",
    "- **Precisión** (accuracy)  \n",
    "- **Matriz de confusión**  \n",
    "\n",
    "**Mejor modelo obtenido:**\n",
    "\n",
    "- **Regresión Logística**  \n",
    "- **Univariado**\n",
    "- **AUC-ROC:** 0.89  \n",
    "- **Precisión:** 0.847  \n",
    "\n",
    "**Matriz de confusión optimizando el threshold:**\n",
    "\n",
    "| Actual \\ Predicción | 0  | 1  |\n",
    "|--------------------|----|----|\n",
    "| 0                  | 29 | 6  |\n",
    "| 1                  | 9  | 48  |\n",
    "\n",
    "> Nota: El threshold de predicción fue optimizado usando el criterio de **Youden** para maximizar la sensibilidad y especificidad.\n",
    "\n",
    "---\n",
    "\n",
    "## Tecnologías y Herramientas\n",
    "\n",
    "- **Lenguaje:** Python 🐍  \n",
    "- **Librerías:** pandas, NumPy, SciPy, scikit-learn, Matplotlib, Seaborn  \n",
    "- **Procesamiento de datos:** normalización, escalado, PCA  \n",
    "- **Análisis multivariado:** PLS, VIP  \n",
    "\n",
    "---\n",
    "\n",
    "## Conclusión\n",
    "\n",
    "Este estudio demuestra que es posible predecir con alta precisión el estado clínico de pacientes con gliomas difusos utilizando biomarcadores ómicos. La combinación de selección de biomarcadores **univariados** y **regresión logística** proporcionó el mejor desempeño, con un **AUC-ROC** de **0.89** y una **precisión** de **0.847**.\n",
    "\n",
    "Se concluye que los trece biomarcadores identificados mediante análisis univariado son suficientes para generar un pronóstico confiable. No solo superaron en métricas a los modelos que incorporaron biomarcadores derivados del análisis multivariado, sino que su reducido número permite un costo de análisis menor, lo cual es relevante para su aplicación clínica.\n",
    "\n",
    "Cabe destacar que los resultados podrían mejorarse aún más al integrar datos de análisis clínicos tradicionales junto con los biomarcadores ómicos, lo que podría potenciar la precisión y utilidad del modelo en entornos reales.\n",
    "\n"
   ]
  },
  {
   "cell_type": "code",
   "execution_count": 2,
   "id": "812427f7",
   "metadata": {},
   "outputs": [],
   "source": [
    "import pandas as pd\n",
    "import matplotlib.pyplot as plt\n",
    "import seaborn as sns\n",
    "from sklearn.preprocessing import StandardScaler\n",
    "from sklearn.neighbors import KNeighborsClassifier\n",
    "from sklearn.linear_model import LogisticRegression\n",
    "from sklearn.model_selection import train_test_split\n",
    "from sklearn.ensemble import RandomForestClassifier"
   ]
  },
  {
   "cell_type": "code",
   "execution_count": 3,
   "id": "0811dbae",
   "metadata": {},
   "outputs": [
    {
     "data": {
      "text/html": [
       "<div>\n",
       "<style scoped>\n",
       "    .dataframe tbody tr th:only-of-type {\n",
       "        vertical-align: middle;\n",
       "    }\n",
       "\n",
       "    .dataframe tbody tr th {\n",
       "        vertical-align: top;\n",
       "    }\n",
       "\n",
       "    .dataframe thead th {\n",
       "        text-align: right;\n",
       "    }\n",
       "</style>\n",
       "<table border=\"1\" class=\"dataframe\">\n",
       "  <thead>\n",
       "    <tr style=\"text-align: right;\">\n",
       "      <th></th>\n",
       "      <th>Case</th>\n",
       "      <th>years_to_birth</th>\n",
       "      <th>gender</th>\n",
       "      <th>histological_type</th>\n",
       "      <th>race</th>\n",
       "      <th>ethnicity</th>\n",
       "      <th>radiation_therapy</th>\n",
       "      <th>Grade</th>\n",
       "      <th>Mutation.Count</th>\n",
       "      <th>Percent.aneuploidy</th>\n",
       "      <th>...</th>\n",
       "      <th>TSC1</th>\n",
       "      <th>TSC2</th>\n",
       "      <th>WWTR1</th>\n",
       "      <th>XRCC1</th>\n",
       "      <th>XRCC5</th>\n",
       "      <th>YAP1</th>\n",
       "      <th>YBX1</th>\n",
       "      <th>YWHAB</th>\n",
       "      <th>YWHAE</th>\n",
       "      <th>YWHAZ</th>\n",
       "    </tr>\n",
       "  </thead>\n",
       "  <tbody>\n",
       "    <tr>\n",
       "      <th>0</th>\n",
       "      <td>TCGA-CS-4938</td>\n",
       "      <td>31</td>\n",
       "      <td>female</td>\n",
       "      <td>astrocytoma</td>\n",
       "      <td>white</td>\n",
       "      <td>not hispanic or latino</td>\n",
       "      <td>no</td>\n",
       "      <td>G2</td>\n",
       "      <td>15</td>\n",
       "      <td>0.069412</td>\n",
       "      <td>...</td>\n",
       "      <td>1455.8422</td>\n",
       "      <td>1825.0472</td>\n",
       "      <td>1514.6130</td>\n",
       "      <td>759.8070</td>\n",
       "      <td>6062.5131</td>\n",
       "      <td>2080.1343</td>\n",
       "      <td>7140.3398</td>\n",
       "      <td>10055.3807</td>\n",
       "      <td>30969.1630</td>\n",
       "      <td>9261.5901</td>\n",
       "    </tr>\n",
       "    <tr>\n",
       "      <th>1</th>\n",
       "      <td>TCGA-CS-6665</td>\n",
       "      <td>51</td>\n",
       "      <td>female</td>\n",
       "      <td>astrocytoma</td>\n",
       "      <td>white</td>\n",
       "      <td>not hispanic or latino</td>\n",
       "      <td>yes</td>\n",
       "      <td>G3</td>\n",
       "      <td>75</td>\n",
       "      <td>0.524814</td>\n",
       "      <td>...</td>\n",
       "      <td>1194.3738</td>\n",
       "      <td>1685.1381</td>\n",
       "      <td>526.3176</td>\n",
       "      <td>693.4418</td>\n",
       "      <td>6973.3943</td>\n",
       "      <td>545.6702</td>\n",
       "      <td>11239.4509</td>\n",
       "      <td>8656.4989</td>\n",
       "      <td>19796.6446</td>\n",
       "      <td>12575.4957</td>\n",
       "    </tr>\n",
       "    <tr>\n",
       "      <th>2</th>\n",
       "      <td>TCGA-CS-6666</td>\n",
       "      <td>22</td>\n",
       "      <td>male</td>\n",
       "      <td>astrocytoma</td>\n",
       "      <td>white</td>\n",
       "      <td>not hispanic or latino</td>\n",
       "      <td>yes</td>\n",
       "      <td>G3</td>\n",
       "      <td>18</td>\n",
       "      <td>0.403165</td>\n",
       "      <td>...</td>\n",
       "      <td>1088.2018</td>\n",
       "      <td>2360.8727</td>\n",
       "      <td>905.4451</td>\n",
       "      <td>804.4670</td>\n",
       "      <td>6655.3614</td>\n",
       "      <td>730.4312</td>\n",
       "      <td>9499.7415</td>\n",
       "      <td>7289.4220</td>\n",
       "      <td>20114.1557</td>\n",
       "      <td>18329.4385</td>\n",
       "    </tr>\n",
       "    <tr>\n",
       "      <th>3</th>\n",
       "      <td>TCGA-DB-5270</td>\n",
       "      <td>38</td>\n",
       "      <td>female</td>\n",
       "      <td>oligoastrocytoma</td>\n",
       "      <td>white</td>\n",
       "      <td>not hispanic or latino</td>\n",
       "      <td>no</td>\n",
       "      <td>G3</td>\n",
       "      <td>16</td>\n",
       "      <td>0.061382</td>\n",
       "      <td>...</td>\n",
       "      <td>1397.5452</td>\n",
       "      <td>2081.1456</td>\n",
       "      <td>414.7801</td>\n",
       "      <td>793.3856</td>\n",
       "      <td>4214.4562</td>\n",
       "      <td>753.8357</td>\n",
       "      <td>4590.5217</td>\n",
       "      <td>11778.0430</td>\n",
       "      <td>22488.9192</td>\n",
       "      <td>12954.6539</td>\n",
       "    </tr>\n",
       "    <tr>\n",
       "      <th>4</th>\n",
       "      <td>TCGA-DB-5273</td>\n",
       "      <td>33</td>\n",
       "      <td>male</td>\n",
       "      <td>astrocytoma</td>\n",
       "      <td>white</td>\n",
       "      <td>not hispanic or latino</td>\n",
       "      <td>yes</td>\n",
       "      <td>G3</td>\n",
       "      <td>16</td>\n",
       "      <td>0.017349</td>\n",
       "      <td>...</td>\n",
       "      <td>1064.6498</td>\n",
       "      <td>1486.5313</td>\n",
       "      <td>4793.0874</td>\n",
       "      <td>1002.0721</td>\n",
       "      <td>5197.6792</td>\n",
       "      <td>1442.1881</td>\n",
       "      <td>9880.2321</td>\n",
       "      <td>7364.2768</td>\n",
       "      <td>30595.9387</td>\n",
       "      <td>9029.4240</td>\n",
       "    </tr>\n",
       "  </tbody>\n",
       "</table>\n",
       "<p>5 rows × 331 columns</p>\n",
       "</div>"
      ],
      "text/plain": [
       "           Case  years_to_birth  gender histological_type   race  \\\n",
       "0  TCGA-CS-4938              31  female       astrocytoma  white   \n",
       "1  TCGA-CS-6665              51  female       astrocytoma  white   \n",
       "2  TCGA-CS-6666              22    male       astrocytoma  white   \n",
       "3  TCGA-DB-5270              38  female  oligoastrocytoma  white   \n",
       "4  TCGA-DB-5273              33    male       astrocytoma  white   \n",
       "\n",
       "                ethnicity radiation_therapy Grade  Mutation.Count  \\\n",
       "0  not hispanic or latino                no    G2              15   \n",
       "1  not hispanic or latino               yes    G3              75   \n",
       "2  not hispanic or latino               yes    G3              18   \n",
       "3  not hispanic or latino                no    G3              16   \n",
       "4  not hispanic or latino               yes    G3              16   \n",
       "\n",
       "   Percent.aneuploidy  ...       TSC1       TSC2      WWTR1      XRCC1  \\\n",
       "0            0.069412  ...  1455.8422  1825.0472  1514.6130   759.8070   \n",
       "1            0.524814  ...  1194.3738  1685.1381   526.3176   693.4418   \n",
       "2            0.403165  ...  1088.2018  2360.8727   905.4451   804.4670   \n",
       "3            0.061382  ...  1397.5452  2081.1456   414.7801   793.3856   \n",
       "4            0.017349  ...  1064.6498  1486.5313  4793.0874  1002.0721   \n",
       "\n",
       "       XRCC5       YAP1        YBX1       YWHAB       YWHAE       YWHAZ  \n",
       "0  6062.5131  2080.1343   7140.3398  10055.3807  30969.1630   9261.5901  \n",
       "1  6973.3943   545.6702  11239.4509   8656.4989  19796.6446  12575.4957  \n",
       "2  6655.3614   730.4312   9499.7415   7289.4220  20114.1557  18329.4385  \n",
       "3  4214.4562   753.8357   4590.5217  11778.0430  22488.9192  12954.6539  \n",
       "4  5197.6792  1442.1881   9880.2321   7364.2768  30595.9387   9029.4240  \n",
       "\n",
       "[5 rows x 331 columns]"
      ]
     },
     "execution_count": 3,
     "metadata": {},
     "output_type": "execute_result"
    }
   ],
   "source": [
    "data = pd.read_csv(r\"C:\\Users\\HP\\Desktop\\Análisis multiomicos\\Análisis multi-ómico de gliomas difusos\\Glioma.csv\")\n",
    "data.head()"
   ]
  },
  {
   "cell_type": "code",
   "execution_count": 4,
   "id": "70d86aa7",
   "metadata": {},
   "outputs": [
    {
     "data": {
      "text/plain": [
       "0      TCGA-CS-4938\n",
       "1      TCGA-CS-6665\n",
       "2      TCGA-CS-6666\n",
       "3      TCGA-DB-5270\n",
       "4      TCGA-DB-5273\n",
       "           ...     \n",
       "301    TCGA-TM-A7C5\n",
       "302    TCGA-TM-A84R\n",
       "303    TCGA-TM-A84S\n",
       "304    TCGA-VV-A829\n",
       "305    TCGA-VW-A7QS\n",
       "Name: Case, Length: 306, dtype: object"
      ]
     },
     "execution_count": 4,
     "metadata": {},
     "output_type": "execute_result"
    }
   ],
   "source": [
    "data[\"Case\"]"
   ]
  },
  {
   "cell_type": "code",
   "execution_count": 5,
   "id": "20945c12",
   "metadata": {},
   "outputs": [
    {
     "data": {
      "text/plain": [
       "(306, 320)"
      ]
     },
     "execution_count": 5,
     "metadata": {},
     "output_type": "execute_result"
    }
   ],
   "source": [
    "data_omics = data.loc[:, \"14-3-3_beta_p\":'YWHAZ']\n",
    "scaler = StandardScaler()\n",
    "data_omics = pd.DataFrame(scaler.fit_transform(data_omics), columns=data_omics.columns)\n",
    "\n",
    "\n",
    "data_omics['Case'] = data['Case']\n",
    "data_omics.shape"
   ]
  },
  {
   "cell_type": "code",
   "execution_count": 6,
   "id": "1b1e1545",
   "metadata": {},
   "outputs": [
    {
     "data": {
      "text/html": [
       "<div>\n",
       "<style scoped>\n",
       "    .dataframe tbody tr th:only-of-type {\n",
       "        vertical-align: middle;\n",
       "    }\n",
       "\n",
       "    .dataframe tbody tr th {\n",
       "        vertical-align: top;\n",
       "    }\n",
       "\n",
       "    .dataframe thead th {\n",
       "        text-align: right;\n",
       "    }\n",
       "</style>\n",
       "<table border=\"1\" class=\"dataframe\">\n",
       "  <thead>\n",
       "    <tr style=\"text-align: right;\">\n",
       "      <th></th>\n",
       "      <th>14-3-3_beta_p</th>\n",
       "      <th>14-3-3_epsilon_p</th>\n",
       "      <th>14-3-3_zeta_p</th>\n",
       "      <th>4E-BP1_p</th>\n",
       "      <th>4E-BP1_pS65_p</th>\n",
       "      <th>4E-BP1_pT37_T46_p</th>\n",
       "      <th>4E-BP1_pT70_p</th>\n",
       "      <th>53BP1_p</th>\n",
       "      <th>A-Raf_pS299_p</th>\n",
       "      <th>ACC1_p</th>\n",
       "      <th>...</th>\n",
       "      <th>TSC2</th>\n",
       "      <th>WWTR1</th>\n",
       "      <th>XRCC1</th>\n",
       "      <th>XRCC5</th>\n",
       "      <th>YAP1</th>\n",
       "      <th>YBX1</th>\n",
       "      <th>YWHAB</th>\n",
       "      <th>YWHAE</th>\n",
       "      <th>YWHAZ</th>\n",
       "      <th>Case</th>\n",
       "    </tr>\n",
       "  </thead>\n",
       "  <tbody>\n",
       "    <tr>\n",
       "      <th>0</th>\n",
       "      <td>0.030558</td>\n",
       "      <td>0.746132</td>\n",
       "      <td>-0.364856</td>\n",
       "      <td>-1.714221</td>\n",
       "      <td>-0.568263</td>\n",
       "      <td>-0.082262</td>\n",
       "      <td>-3.748444</td>\n",
       "      <td>-2.223344</td>\n",
       "      <td>-0.451352</td>\n",
       "      <td>-0.295783</td>\n",
       "      <td>...</td>\n",
       "      <td>-0.801553</td>\n",
       "      <td>1.959172</td>\n",
       "      <td>0.440859</td>\n",
       "      <td>1.018730</td>\n",
       "      <td>1.569418</td>\n",
       "      <td>0.380798</td>\n",
       "      <td>1.084814</td>\n",
       "      <td>2.588856</td>\n",
       "      <td>-0.140753</td>\n",
       "      <td>TCGA-CS-4938</td>\n",
       "    </tr>\n",
       "    <tr>\n",
       "      <th>1</th>\n",
       "      <td>-0.107308</td>\n",
       "      <td>-1.725794</td>\n",
       "      <td>0.267548</td>\n",
       "      <td>-0.020705</td>\n",
       "      <td>-0.532203</td>\n",
       "      <td>0.074841</td>\n",
       "      <td>0.737829</td>\n",
       "      <td>-1.263517</td>\n",
       "      <td>-1.430873</td>\n",
       "      <td>-1.733802</td>\n",
       "      <td>...</td>\n",
       "      <td>-1.031936</td>\n",
       "      <td>0.160177</td>\n",
       "      <td>0.099158</td>\n",
       "      <td>1.867084</td>\n",
       "      <td>-0.666859</td>\n",
       "      <td>1.847143</td>\n",
       "      <td>0.452547</td>\n",
       "      <td>-0.600650</td>\n",
       "      <td>0.896253</td>\n",
       "      <td>TCGA-CS-6665</td>\n",
       "    </tr>\n",
       "    <tr>\n",
       "      <th>2</th>\n",
       "      <td>-0.436372</td>\n",
       "      <td>-1.506079</td>\n",
       "      <td>1.305744</td>\n",
       "      <td>0.784615</td>\n",
       "      <td>-0.668358</td>\n",
       "      <td>0.203597</td>\n",
       "      <td>1.116620</td>\n",
       "      <td>0.488199</td>\n",
       "      <td>-2.061320</td>\n",
       "      <td>-0.265540</td>\n",
       "      <td>...</td>\n",
       "      <td>0.080771</td>\n",
       "      <td>0.850304</td>\n",
       "      <td>0.670805</td>\n",
       "      <td>1.570882</td>\n",
       "      <td>-0.397594</td>\n",
       "      <td>1.224809</td>\n",
       "      <td>-0.165345</td>\n",
       "      <td>-0.510008</td>\n",
       "      <td>2.696809</td>\n",
       "      <td>TCGA-CS-6666</td>\n",
       "    </tr>\n",
       "    <tr>\n",
       "      <th>3</th>\n",
       "      <td>0.477094</td>\n",
       "      <td>0.821615</td>\n",
       "      <td>1.485599</td>\n",
       "      <td>-1.432302</td>\n",
       "      <td>2.376602</td>\n",
       "      <td>-1.825330</td>\n",
       "      <td>-0.579145</td>\n",
       "      <td>-1.239927</td>\n",
       "      <td>1.020577</td>\n",
       "      <td>0.859611</td>\n",
       "      <td>...</td>\n",
       "      <td>-0.379845</td>\n",
       "      <td>-0.042854</td>\n",
       "      <td>0.613749</td>\n",
       "      <td>-0.702468</td>\n",
       "      <td>-0.363486</td>\n",
       "      <td>-0.531330</td>\n",
       "      <td>1.863423</td>\n",
       "      <td>0.167934</td>\n",
       "      <td>1.014901</td>\n",
       "      <td>TCGA-DB-5270</td>\n",
       "    </tr>\n",
       "    <tr>\n",
       "      <th>4</th>\n",
       "      <td>0.531848</td>\n",
       "      <td>0.061359</td>\n",
       "      <td>-0.127934</td>\n",
       "      <td>-0.142078</td>\n",
       "      <td>-0.710055</td>\n",
       "      <td>0.134675</td>\n",
       "      <td>-0.463528</td>\n",
       "      <td>0.559996</td>\n",
       "      <td>-1.017155</td>\n",
       "      <td>-0.019255</td>\n",
       "      <td>...</td>\n",
       "      <td>-1.358975</td>\n",
       "      <td>7.926982</td>\n",
       "      <td>1.688237</td>\n",
       "      <td>0.213262</td>\n",
       "      <td>0.639697</td>\n",
       "      <td>1.360920</td>\n",
       "      <td>-0.131512</td>\n",
       "      <td>2.482309</td>\n",
       "      <td>-0.213404</td>\n",
       "      <td>TCGA-DB-5273</td>\n",
       "    </tr>\n",
       "  </tbody>\n",
       "</table>\n",
       "<p>5 rows × 320 columns</p>\n",
       "</div>"
      ],
      "text/plain": [
       "   14-3-3_beta_p  14-3-3_epsilon_p  14-3-3_zeta_p  4E-BP1_p  4E-BP1_pS65_p  \\\n",
       "0       0.030558          0.746132      -0.364856 -1.714221      -0.568263   \n",
       "1      -0.107308         -1.725794       0.267548 -0.020705      -0.532203   \n",
       "2      -0.436372         -1.506079       1.305744  0.784615      -0.668358   \n",
       "3       0.477094          0.821615       1.485599 -1.432302       2.376602   \n",
       "4       0.531848          0.061359      -0.127934 -0.142078      -0.710055   \n",
       "\n",
       "   4E-BP1_pT37_T46_p  4E-BP1_pT70_p   53BP1_p  A-Raf_pS299_p    ACC1_p  ...  \\\n",
       "0          -0.082262      -3.748444 -2.223344      -0.451352 -0.295783  ...   \n",
       "1           0.074841       0.737829 -1.263517      -1.430873 -1.733802  ...   \n",
       "2           0.203597       1.116620  0.488199      -2.061320 -0.265540  ...   \n",
       "3          -1.825330      -0.579145 -1.239927       1.020577  0.859611  ...   \n",
       "4           0.134675      -0.463528  0.559996      -1.017155 -0.019255  ...   \n",
       "\n",
       "       TSC2     WWTR1     XRCC1     XRCC5      YAP1      YBX1     YWHAB  \\\n",
       "0 -0.801553  1.959172  0.440859  1.018730  1.569418  0.380798  1.084814   \n",
       "1 -1.031936  0.160177  0.099158  1.867084 -0.666859  1.847143  0.452547   \n",
       "2  0.080771  0.850304  0.670805  1.570882 -0.397594  1.224809 -0.165345   \n",
       "3 -0.379845 -0.042854  0.613749 -0.702468 -0.363486 -0.531330  1.863423   \n",
       "4 -1.358975  7.926982  1.688237  0.213262  0.639697  1.360920 -0.131512   \n",
       "\n",
       "      YWHAE     YWHAZ          Case  \n",
       "0  2.588856 -0.140753  TCGA-CS-4938  \n",
       "1 -0.600650  0.896253  TCGA-CS-6665  \n",
       "2 -0.510008  2.696809  TCGA-CS-6666  \n",
       "3  0.167934  1.014901  TCGA-DB-5270  \n",
       "4  2.482309 -0.213404  TCGA-DB-5273  \n",
       "\n",
       "[5 rows x 320 columns]"
      ]
     },
     "execution_count": 6,
     "metadata": {},
     "output_type": "execute_result"
    }
   ],
   "source": [
    "data_omics.head()"
   ]
  },
  {
   "cell_type": "code",
   "execution_count": 7,
   "id": "11ec69fb",
   "metadata": {},
   "outputs": [
    {
     "data": {
      "text/html": [
       "<div>\n",
       "<style scoped>\n",
       "    .dataframe tbody tr th:only-of-type {\n",
       "        vertical-align: middle;\n",
       "    }\n",
       "\n",
       "    .dataframe tbody tr th {\n",
       "        vertical-align: top;\n",
       "    }\n",
       "\n",
       "    .dataframe thead th {\n",
       "        text-align: right;\n",
       "    }\n",
       "</style>\n",
       "<table border=\"1\" class=\"dataframe\">\n",
       "  <thead>\n",
       "    <tr style=\"text-align: right;\">\n",
       "      <th></th>\n",
       "      <th>14-3-3_beta_p</th>\n",
       "      <th>14-3-3_epsilon_p</th>\n",
       "      <th>14-3-3_zeta_p</th>\n",
       "      <th>4E-BP1_p</th>\n",
       "      <th>4E-BP1_pS65_p</th>\n",
       "      <th>4E-BP1_pT37_T46_p</th>\n",
       "      <th>4E-BP1_pT70_p</th>\n",
       "      <th>53BP1_p</th>\n",
       "      <th>A-Raf_pS299_p</th>\n",
       "      <th>ACC1_p</th>\n",
       "      <th>...</th>\n",
       "      <th>TSC1</th>\n",
       "      <th>TSC2</th>\n",
       "      <th>WWTR1</th>\n",
       "      <th>XRCC1</th>\n",
       "      <th>XRCC5</th>\n",
       "      <th>YAP1</th>\n",
       "      <th>YBX1</th>\n",
       "      <th>YWHAB</th>\n",
       "      <th>YWHAE</th>\n",
       "      <th>YWHAZ</th>\n",
       "    </tr>\n",
       "  </thead>\n",
       "  <tbody>\n",
       "    <tr>\n",
       "      <th>count</th>\n",
       "      <td>3.060000e+02</td>\n",
       "      <td>3.060000e+02</td>\n",
       "      <td>3.060000e+02</td>\n",
       "      <td>3.060000e+02</td>\n",
       "      <td>3.060000e+02</td>\n",
       "      <td>3.060000e+02</td>\n",
       "      <td>3.060000e+02</td>\n",
       "      <td>3.060000e+02</td>\n",
       "      <td>3.060000e+02</td>\n",
       "      <td>306.000000</td>\n",
       "      <td>...</td>\n",
       "      <td>3.060000e+02</td>\n",
       "      <td>3.060000e+02</td>\n",
       "      <td>3.060000e+02</td>\n",
       "      <td>3.060000e+02</td>\n",
       "      <td>3.060000e+02</td>\n",
       "      <td>3.060000e+02</td>\n",
       "      <td>3.060000e+02</td>\n",
       "      <td>3.060000e+02</td>\n",
       "      <td>3.060000e+02</td>\n",
       "      <td>3.060000e+02</td>\n",
       "    </tr>\n",
       "    <tr>\n",
       "      <th>mean</th>\n",
       "      <td>-8.707632e-18</td>\n",
       "      <td>2.612289e-17</td>\n",
       "      <td>1.451272e-17</td>\n",
       "      <td>-1.741526e-17</td>\n",
       "      <td>1.161018e-17</td>\n",
       "      <td>-2.902544e-17</td>\n",
       "      <td>-8.707632e-18</td>\n",
       "      <td>1.161018e-17</td>\n",
       "      <td>-2.322035e-17</td>\n",
       "      <td>0.000000</td>\n",
       "      <td>...</td>\n",
       "      <td>5.369706e-17</td>\n",
       "      <td>1.422246e-16</td>\n",
       "      <td>6.966105e-17</td>\n",
       "      <td>6.966105e-17</td>\n",
       "      <td>5.224579e-16</td>\n",
       "      <td>6.966105e-17</td>\n",
       "      <td>2.786442e-16</td>\n",
       "      <td>5.921189e-16</td>\n",
       "      <td>-5.805088e-16</td>\n",
       "      <td>-1.857628e-16</td>\n",
       "    </tr>\n",
       "    <tr>\n",
       "      <th>std</th>\n",
       "      <td>1.001638e+00</td>\n",
       "      <td>1.001638e+00</td>\n",
       "      <td>1.001638e+00</td>\n",
       "      <td>1.001638e+00</td>\n",
       "      <td>1.001638e+00</td>\n",
       "      <td>1.001638e+00</td>\n",
       "      <td>1.001638e+00</td>\n",
       "      <td>1.001638e+00</td>\n",
       "      <td>1.001638e+00</td>\n",
       "      <td>1.001638</td>\n",
       "      <td>...</td>\n",
       "      <td>1.001638e+00</td>\n",
       "      <td>1.001638e+00</td>\n",
       "      <td>1.001638e+00</td>\n",
       "      <td>1.001638e+00</td>\n",
       "      <td>1.001638e+00</td>\n",
       "      <td>1.001638e+00</td>\n",
       "      <td>1.001638e+00</td>\n",
       "      <td>1.001638e+00</td>\n",
       "      <td>1.001638e+00</td>\n",
       "      <td>1.001638e+00</td>\n",
       "    </tr>\n",
       "    <tr>\n",
       "      <th>min</th>\n",
       "      <td>-1.999660e+00</td>\n",
       "      <td>-3.143358e+00</td>\n",
       "      <td>-2.353559e+00</td>\n",
       "      <td>-2.869805e+00</td>\n",
       "      <td>-2.105802e+00</td>\n",
       "      <td>-2.737521e+00</td>\n",
       "      <td>-3.748444e+00</td>\n",
       "      <td>-3.072644e+00</td>\n",
       "      <td>-2.370465e+00</td>\n",
       "      <td>-4.189587</td>\n",
       "      <td>...</td>\n",
       "      <td>-2.211711e+00</td>\n",
       "      <td>-2.258282e+00</td>\n",
       "      <td>-7.739155e-01</td>\n",
       "      <td>-1.671278e+00</td>\n",
       "      <td>-2.045138e+00</td>\n",
       "      <td>-1.362761e+00</td>\n",
       "      <td>-1.811827e+00</td>\n",
       "      <td>-2.118147e+00</td>\n",
       "      <td>-3.297165e+00</td>\n",
       "      <td>-1.615996e+00</td>\n",
       "    </tr>\n",
       "    <tr>\n",
       "      <th>25%</th>\n",
       "      <td>-5.508996e-01</td>\n",
       "      <td>-5.932951e-01</td>\n",
       "      <td>-6.465984e-01</td>\n",
       "      <td>-6.829040e-01</td>\n",
       "      <td>-6.760048e-01</td>\n",
       "      <td>-6.275572e-01</td>\n",
       "      <td>-6.219038e-01</td>\n",
       "      <td>-6.813301e-01</td>\n",
       "      <td>-5.826793e-01</td>\n",
       "      <td>-0.516652</td>\n",
       "      <td>...</td>\n",
       "      <td>-7.003629e-01</td>\n",
       "      <td>-7.326546e-01</td>\n",
       "      <td>-5.285189e-01</td>\n",
       "      <td>-7.587234e-01</td>\n",
       "      <td>-6.471404e-01</td>\n",
       "      <td>-7.077646e-01</td>\n",
       "      <td>-7.991570e-01</td>\n",
       "      <td>-6.372390e-01</td>\n",
       "      <td>-6.507689e-01</td>\n",
       "      <td>-6.288388e-01</td>\n",
       "    </tr>\n",
       "    <tr>\n",
       "      <th>50%</th>\n",
       "      <td>-1.312821e-01</td>\n",
       "      <td>-1.144371e-01</td>\n",
       "      <td>-1.518462e-01</td>\n",
       "      <td>-1.043555e-01</td>\n",
       "      <td>-1.566073e-01</td>\n",
       "      <td>5.572810e-02</td>\n",
       "      <td>-1.796321e-01</td>\n",
       "      <td>-8.850379e-02</td>\n",
       "      <td>-5.265420e-02</td>\n",
       "      <td>0.005234</td>\n",
       "      <td>...</td>\n",
       "      <td>-1.613304e-02</td>\n",
       "      <td>-1.570273e-01</td>\n",
       "      <td>-3.188161e-01</td>\n",
       "      <td>-1.828947e-01</td>\n",
       "      <td>-1.324331e-01</td>\n",
       "      <td>-2.200596e-01</td>\n",
       "      <td>-1.615536e-01</td>\n",
       "      <td>-2.315243e-01</td>\n",
       "      <td>-1.025777e-01</td>\n",
       "      <td>-2.202681e-01</td>\n",
       "    </tr>\n",
       "    <tr>\n",
       "      <th>75%</th>\n",
       "      <td>3.029362e-01</td>\n",
       "      <td>6.047494e-01</td>\n",
       "      <td>4.921106e-01</td>\n",
       "      <td>5.451011e-01</td>\n",
       "      <td>4.855653e-01</td>\n",
       "      <td>7.008325e-01</td>\n",
       "      <td>5.452351e-01</td>\n",
       "      <td>5.956754e-01</td>\n",
       "      <td>4.904554e-01</td>\n",
       "      <td>0.590592</td>\n",
       "      <td>...</td>\n",
       "      <td>6.094427e-01</td>\n",
       "      <td>6.442457e-01</td>\n",
       "      <td>1.219101e-01</td>\n",
       "      <td>4.818476e-01</td>\n",
       "      <td>5.548659e-01</td>\n",
       "      <td>5.166168e-01</td>\n",
       "      <td>6.031194e-01</td>\n",
       "      <td>3.835663e-01</td>\n",
       "      <td>5.390658e-01</td>\n",
       "      <td>4.310420e-01</td>\n",
       "    </tr>\n",
       "    <tr>\n",
       "      <th>max</th>\n",
       "      <td>4.901906e+00</td>\n",
       "      <td>3.452161e+00</td>\n",
       "      <td>4.468110e+00</td>\n",
       "      <td>3.701923e+00</td>\n",
       "      <td>4.103687e+00</td>\n",
       "      <td>2.658840e+00</td>\n",
       "      <td>5.102423e+00</td>\n",
       "      <td>3.491753e+00</td>\n",
       "      <td>3.789909e+00</td>\n",
       "      <td>3.526802</td>\n",
       "      <td>...</td>\n",
       "      <td>4.260404e+00</td>\n",
       "      <td>4.439750e+00</td>\n",
       "      <td>7.926982e+00</td>\n",
       "      <td>4.020713e+00</td>\n",
       "      <td>5.864318e+00</td>\n",
       "      <td>4.799091e+00</td>\n",
       "      <td>3.737746e+00</td>\n",
       "      <td>5.266834e+00</td>\n",
       "      <td>3.804987e+00</td>\n",
       "      <td>4.932814e+00</td>\n",
       "    </tr>\n",
       "  </tbody>\n",
       "</table>\n",
       "<p>8 rows × 319 columns</p>\n",
       "</div>"
      ],
      "text/plain": [
       "       14-3-3_beta_p  14-3-3_epsilon_p  14-3-3_zeta_p      4E-BP1_p  \\\n",
       "count   3.060000e+02      3.060000e+02   3.060000e+02  3.060000e+02   \n",
       "mean   -8.707632e-18      2.612289e-17   1.451272e-17 -1.741526e-17   \n",
       "std     1.001638e+00      1.001638e+00   1.001638e+00  1.001638e+00   \n",
       "min    -1.999660e+00     -3.143358e+00  -2.353559e+00 -2.869805e+00   \n",
       "25%    -5.508996e-01     -5.932951e-01  -6.465984e-01 -6.829040e-01   \n",
       "50%    -1.312821e-01     -1.144371e-01  -1.518462e-01 -1.043555e-01   \n",
       "75%     3.029362e-01      6.047494e-01   4.921106e-01  5.451011e-01   \n",
       "max     4.901906e+00      3.452161e+00   4.468110e+00  3.701923e+00   \n",
       "\n",
       "       4E-BP1_pS65_p  4E-BP1_pT37_T46_p  4E-BP1_pT70_p       53BP1_p  \\\n",
       "count   3.060000e+02       3.060000e+02   3.060000e+02  3.060000e+02   \n",
       "mean    1.161018e-17      -2.902544e-17  -8.707632e-18  1.161018e-17   \n",
       "std     1.001638e+00       1.001638e+00   1.001638e+00  1.001638e+00   \n",
       "min    -2.105802e+00      -2.737521e+00  -3.748444e+00 -3.072644e+00   \n",
       "25%    -6.760048e-01      -6.275572e-01  -6.219038e-01 -6.813301e-01   \n",
       "50%    -1.566073e-01       5.572810e-02  -1.796321e-01 -8.850379e-02   \n",
       "75%     4.855653e-01       7.008325e-01   5.452351e-01  5.956754e-01   \n",
       "max     4.103687e+00       2.658840e+00   5.102423e+00  3.491753e+00   \n",
       "\n",
       "       A-Raf_pS299_p      ACC1_p  ...          TSC1          TSC2  \\\n",
       "count   3.060000e+02  306.000000  ...  3.060000e+02  3.060000e+02   \n",
       "mean   -2.322035e-17    0.000000  ...  5.369706e-17  1.422246e-16   \n",
       "std     1.001638e+00    1.001638  ...  1.001638e+00  1.001638e+00   \n",
       "min    -2.370465e+00   -4.189587  ... -2.211711e+00 -2.258282e+00   \n",
       "25%    -5.826793e-01   -0.516652  ... -7.003629e-01 -7.326546e-01   \n",
       "50%    -5.265420e-02    0.005234  ... -1.613304e-02 -1.570273e-01   \n",
       "75%     4.904554e-01    0.590592  ...  6.094427e-01  6.442457e-01   \n",
       "max     3.789909e+00    3.526802  ...  4.260404e+00  4.439750e+00   \n",
       "\n",
       "              WWTR1         XRCC1         XRCC5          YAP1          YBX1  \\\n",
       "count  3.060000e+02  3.060000e+02  3.060000e+02  3.060000e+02  3.060000e+02   \n",
       "mean   6.966105e-17  6.966105e-17  5.224579e-16  6.966105e-17  2.786442e-16   \n",
       "std    1.001638e+00  1.001638e+00  1.001638e+00  1.001638e+00  1.001638e+00   \n",
       "min   -7.739155e-01 -1.671278e+00 -2.045138e+00 -1.362761e+00 -1.811827e+00   \n",
       "25%   -5.285189e-01 -7.587234e-01 -6.471404e-01 -7.077646e-01 -7.991570e-01   \n",
       "50%   -3.188161e-01 -1.828947e-01 -1.324331e-01 -2.200596e-01 -1.615536e-01   \n",
       "75%    1.219101e-01  4.818476e-01  5.548659e-01  5.166168e-01  6.031194e-01   \n",
       "max    7.926982e+00  4.020713e+00  5.864318e+00  4.799091e+00  3.737746e+00   \n",
       "\n",
       "              YWHAB         YWHAE         YWHAZ  \n",
       "count  3.060000e+02  3.060000e+02  3.060000e+02  \n",
       "mean   5.921189e-16 -5.805088e-16 -1.857628e-16  \n",
       "std    1.001638e+00  1.001638e+00  1.001638e+00  \n",
       "min   -2.118147e+00 -3.297165e+00 -1.615996e+00  \n",
       "25%   -6.372390e-01 -6.507689e-01 -6.288388e-01  \n",
       "50%   -2.315243e-01 -1.025777e-01 -2.202681e-01  \n",
       "75%    3.835663e-01  5.390658e-01  4.310420e-01  \n",
       "max    5.266834e+00  3.804987e+00  4.932814e+00  \n",
       "\n",
       "[8 rows x 319 columns]"
      ]
     },
     "execution_count": 7,
     "metadata": {},
     "output_type": "execute_result"
    }
   ],
   "source": [
    "\n",
    "data_omics.describe()"
   ]
  },
  {
   "cell_type": "markdown",
   "id": "2a97eae0",
   "metadata": {},
   "source": [
    "# Predicción del estado del paciente empleando datos ómicos del análisis univariado"
   ]
  },
  {
   "cell_type": "code",
   "execution_count": 8,
   "id": "56542239",
   "metadata": {},
   "outputs": [],
   "source": [
    "columnas_univar = [\"Src_pY416_p\", \"EGFR_pY1068_p\", \"p27_p\", \"HER2_pY1248_p\", \"Cyclin_B1_p\", \"PRAS40_pT246_p\", \"4E-BP1_pS65_p\", \"STAT5A\", \"RPS6KA1\", \"SYK\", \"AR\", \"WWTR1\", \"CAV1\"]\n",
    "\n",
    "x_train_u, x_test_u, y_train_u, y_test_u = train_test_split(\n",
    "    data_omics[columnas_univar], data['outcome'], test_size=0.3, random_state=42)"
   ]
  },
  {
   "cell_type": "code",
   "execution_count": 9,
   "id": "4c19f8a7",
   "metadata": {},
   "outputs": [
    {
     "name": "stderr",
     "output_type": "stream",
     "text": [
      "C:\\Users\\HP\\AppData\\Local\\Temp\\ipykernel_15016\\2050338450.py:3: SettingWithCopyWarning: \n",
      "A value is trying to be set on a copy of a slice from a DataFrame.\n",
      "Try using .loc[row_indexer,col_indexer] = value instead\n",
      "\n",
      "See the caveats in the documentation: https://pandas.pydata.org/pandas-docs/stable/user_guide/indexing.html#returning-a-view-versus-a-copy\n",
      "  data_omics_clinical['Grade_N'] = data['Grade'].map({'G2': 0, 'G3': 1})\n",
      "C:\\Users\\HP\\AppData\\Local\\Temp\\ipykernel_15016\\2050338450.py:5: SettingWithCopyWarning: \n",
      "A value is trying to be set on a copy of a slice from a DataFrame.\n",
      "Try using .loc[row_indexer,col_indexer] = value instead\n",
      "\n",
      "See the caveats in the documentation: https://pandas.pydata.org/pandas-docs/stable/user_guide/indexing.html#returning-a-view-versus-a-copy\n",
      "  data_omics_clinical['Grade_N'] = data['Grade'].map({'G2': 0, 'G3': 1})\n",
      "C:\\Users\\HP\\AppData\\Local\\Temp\\ipykernel_15016\\2050338450.py:7: SettingWithCopyWarning: \n",
      "A value is trying to be set on a copy of a slice from a DataFrame.\n",
      "Try using .loc[row_indexer,col_indexer] = value instead\n",
      "\n",
      "See the caveats in the documentation: https://pandas.pydata.org/pandas-docs/stable/user_guide/indexing.html#returning-a-view-versus-a-copy\n",
      "  data_omics_clinical['Mutation.Count'] = scaler.fit_transform(data[['Mutation.Count']])\n"
     ]
    }
   ],
   "source": [
    "data_omics_clinical = data_omics[columnas_univar]\n",
    "\n",
    "data_omics_clinical['Grade_N'] = data['Grade'].map({'G2': 0, 'G3': 1})\n",
    "\n",
    "data_omics_clinical['Grade_N'] = data['Grade'].map({'G2': 0, 'G3': 1})\n",
    "\n",
    "data_omics_clinical['Mutation.Count'] = scaler.fit_transform(data[['Mutation.Count']])"
   ]
  },
  {
   "cell_type": "code",
   "execution_count": 10,
   "id": "f041e510",
   "metadata": {},
   "outputs": [
    {
     "data": {
      "text/html": [
       "<div>\n",
       "<style scoped>\n",
       "    .dataframe tbody tr th:only-of-type {\n",
       "        vertical-align: middle;\n",
       "    }\n",
       "\n",
       "    .dataframe tbody tr th {\n",
       "        vertical-align: top;\n",
       "    }\n",
       "\n",
       "    .dataframe thead th {\n",
       "        text-align: right;\n",
       "    }\n",
       "</style>\n",
       "<table border=\"1\" class=\"dataframe\">\n",
       "  <thead>\n",
       "    <tr style=\"text-align: right;\">\n",
       "      <th></th>\n",
       "      <th>Src_pY416_p</th>\n",
       "      <th>EGFR_pY1068_p</th>\n",
       "      <th>p27_p</th>\n",
       "      <th>HER2_pY1248_p</th>\n",
       "      <th>Cyclin_B1_p</th>\n",
       "      <th>PRAS40_pT246_p</th>\n",
       "      <th>4E-BP1_pS65_p</th>\n",
       "      <th>STAT5A</th>\n",
       "      <th>RPS6KA1</th>\n",
       "      <th>SYK</th>\n",
       "      <th>AR</th>\n",
       "      <th>WWTR1</th>\n",
       "      <th>CAV1</th>\n",
       "      <th>Grade_N</th>\n",
       "      <th>Mutation.Count</th>\n",
       "    </tr>\n",
       "  </thead>\n",
       "  <tbody>\n",
       "    <tr>\n",
       "      <th>0</th>\n",
       "      <td>2.991841</td>\n",
       "      <td>0.917714</td>\n",
       "      <td>-1.534639</td>\n",
       "      <td>0.402672</td>\n",
       "      <td>-0.058275</td>\n",
       "      <td>1.285151</td>\n",
       "      <td>-0.568263</td>\n",
       "      <td>1.954124</td>\n",
       "      <td>-0.281063</td>\n",
       "      <td>0.449582</td>\n",
       "      <td>2.023361</td>\n",
       "      <td>1.959172</td>\n",
       "      <td>-0.461987</td>\n",
       "      <td>0</td>\n",
       "      <td>-0.874056</td>\n",
       "    </tr>\n",
       "    <tr>\n",
       "      <th>1</th>\n",
       "      <td>0.175336</td>\n",
       "      <td>-0.569701</td>\n",
       "      <td>0.013800</td>\n",
       "      <td>-0.209344</td>\n",
       "      <td>0.495092</td>\n",
       "      <td>0.285759</td>\n",
       "      <td>-0.532203</td>\n",
       "      <td>1.647609</td>\n",
       "      <td>3.403616</td>\n",
       "      <td>3.609751</td>\n",
       "      <td>-0.022353</td>\n",
       "      <td>0.160177</td>\n",
       "      <td>2.081346</td>\n",
       "      <td>1</td>\n",
       "      <td>3.157008</td>\n",
       "    </tr>\n",
       "    <tr>\n",
       "      <th>2</th>\n",
       "      <td>0.569999</td>\n",
       "      <td>0.633347</td>\n",
       "      <td>0.117917</td>\n",
       "      <td>0.367695</td>\n",
       "      <td>0.225117</td>\n",
       "      <td>0.713491</td>\n",
       "      <td>-0.668358</td>\n",
       "      <td>-0.443786</td>\n",
       "      <td>-0.363164</td>\n",
       "      <td>-0.425634</td>\n",
       "      <td>1.510937</td>\n",
       "      <td>0.850304</td>\n",
       "      <td>0.707080</td>\n",
       "      <td>1</td>\n",
       "      <td>-0.672503</td>\n",
       "    </tr>\n",
       "    <tr>\n",
       "      <th>3</th>\n",
       "      <td>-1.232301</td>\n",
       "      <td>-0.499679</td>\n",
       "      <td>-0.948781</td>\n",
       "      <td>-0.359601</td>\n",
       "      <td>-0.395979</td>\n",
       "      <td>-1.660055</td>\n",
       "      <td>2.376602</td>\n",
       "      <td>-0.465215</td>\n",
       "      <td>0.270912</td>\n",
       "      <td>-0.047280</td>\n",
       "      <td>-0.350802</td>\n",
       "      <td>-0.042854</td>\n",
       "      <td>-0.299561</td>\n",
       "      <td>1</td>\n",
       "      <td>-0.806871</td>\n",
       "    </tr>\n",
       "    <tr>\n",
       "      <th>4</th>\n",
       "      <td>0.350542</td>\n",
       "      <td>-0.602342</td>\n",
       "      <td>-1.281801</td>\n",
       "      <td>-0.575914</td>\n",
       "      <td>-0.324341</td>\n",
       "      <td>1.717278</td>\n",
       "      <td>-0.710055</td>\n",
       "      <td>0.383630</td>\n",
       "      <td>1.332004</td>\n",
       "      <td>1.185233</td>\n",
       "      <td>-0.040809</td>\n",
       "      <td>7.926982</td>\n",
       "      <td>0.048166</td>\n",
       "      <td>1</td>\n",
       "      <td>-0.806871</td>\n",
       "    </tr>\n",
       "    <tr>\n",
       "      <th>...</th>\n",
       "      <td>...</td>\n",
       "      <td>...</td>\n",
       "      <td>...</td>\n",
       "      <td>...</td>\n",
       "      <td>...</td>\n",
       "      <td>...</td>\n",
       "      <td>...</td>\n",
       "      <td>...</td>\n",
       "      <td>...</td>\n",
       "      <td>...</td>\n",
       "      <td>...</td>\n",
       "      <td>...</td>\n",
       "      <td>...</td>\n",
       "      <td>...</td>\n",
       "      <td>...</td>\n",
       "    </tr>\n",
       "    <tr>\n",
       "      <th>301</th>\n",
       "      <td>-0.390389</td>\n",
       "      <td>-0.001264</td>\n",
       "      <td>-0.736921</td>\n",
       "      <td>-0.205796</td>\n",
       "      <td>0.476739</td>\n",
       "      <td>-0.819577</td>\n",
       "      <td>-0.667079</td>\n",
       "      <td>-1.225105</td>\n",
       "      <td>-1.112791</td>\n",
       "      <td>-1.025213</td>\n",
       "      <td>-0.848097</td>\n",
       "      <td>-0.663970</td>\n",
       "      <td>-0.381327</td>\n",
       "      <td>0</td>\n",
       "      <td>-0.470949</td>\n",
       "    </tr>\n",
       "    <tr>\n",
       "      <th>302</th>\n",
       "      <td>0.274734</td>\n",
       "      <td>-0.047788</td>\n",
       "      <td>-0.561200</td>\n",
       "      <td>-0.242227</td>\n",
       "      <td>-0.611074</td>\n",
       "      <td>0.037656</td>\n",
       "      <td>0.512360</td>\n",
       "      <td>-0.921656</td>\n",
       "      <td>-0.726004</td>\n",
       "      <td>-0.928671</td>\n",
       "      <td>-0.747440</td>\n",
       "      <td>-0.642758</td>\n",
       "      <td>-0.388772</td>\n",
       "      <td>0</td>\n",
       "      <td>-1.680268</td>\n",
       "    </tr>\n",
       "    <tr>\n",
       "      <th>303</th>\n",
       "      <td>-0.402600</td>\n",
       "      <td>-0.368967</td>\n",
       "      <td>-0.070117</td>\n",
       "      <td>-0.382191</td>\n",
       "      <td>0.045678</td>\n",
       "      <td>-0.239817</td>\n",
       "      <td>-0.826299</td>\n",
       "      <td>0.215351</td>\n",
       "      <td>-0.342566</td>\n",
       "      <td>-0.189662</td>\n",
       "      <td>-0.272731</td>\n",
       "      <td>0.180895</td>\n",
       "      <td>-0.451280</td>\n",
       "      <td>1</td>\n",
       "      <td>-1.142793</td>\n",
       "    </tr>\n",
       "    <tr>\n",
       "      <th>304</th>\n",
       "      <td>0.923929</td>\n",
       "      <td>0.210100</td>\n",
       "      <td>0.492448</td>\n",
       "      <td>-0.367768</td>\n",
       "      <td>-0.292269</td>\n",
       "      <td>-0.162821</td>\n",
       "      <td>0.577339</td>\n",
       "      <td>-0.963641</td>\n",
       "      <td>-0.565410</td>\n",
       "      <td>-0.371684</td>\n",
       "      <td>-0.675042</td>\n",
       "      <td>-0.633866</td>\n",
       "      <td>1.913467</td>\n",
       "      <td>1</td>\n",
       "      <td>-0.067843</td>\n",
       "    </tr>\n",
       "    <tr>\n",
       "      <th>305</th>\n",
       "      <td>-0.288093</td>\n",
       "      <td>0.245411</td>\n",
       "      <td>0.844417</td>\n",
       "      <td>0.111615</td>\n",
       "      <td>0.485753</td>\n",
       "      <td>1.009410</td>\n",
       "      <td>0.024047</td>\n",
       "      <td>-1.346919</td>\n",
       "      <td>-1.159087</td>\n",
       "      <td>-1.091578</td>\n",
       "      <td>-0.888954</td>\n",
       "      <td>-0.748014</td>\n",
       "      <td>1.091179</td>\n",
       "      <td>1</td>\n",
       "      <td>0.805554</td>\n",
       "    </tr>\n",
       "  </tbody>\n",
       "</table>\n",
       "<p>306 rows × 15 columns</p>\n",
       "</div>"
      ],
      "text/plain": [
       "     Src_pY416_p  EGFR_pY1068_p     p27_p  HER2_pY1248_p  Cyclin_B1_p  \\\n",
       "0       2.991841       0.917714 -1.534639       0.402672    -0.058275   \n",
       "1       0.175336      -0.569701  0.013800      -0.209344     0.495092   \n",
       "2       0.569999       0.633347  0.117917       0.367695     0.225117   \n",
       "3      -1.232301      -0.499679 -0.948781      -0.359601    -0.395979   \n",
       "4       0.350542      -0.602342 -1.281801      -0.575914    -0.324341   \n",
       "..           ...            ...       ...            ...          ...   \n",
       "301    -0.390389      -0.001264 -0.736921      -0.205796     0.476739   \n",
       "302     0.274734      -0.047788 -0.561200      -0.242227    -0.611074   \n",
       "303    -0.402600      -0.368967 -0.070117      -0.382191     0.045678   \n",
       "304     0.923929       0.210100  0.492448      -0.367768    -0.292269   \n",
       "305    -0.288093       0.245411  0.844417       0.111615     0.485753   \n",
       "\n",
       "     PRAS40_pT246_p  4E-BP1_pS65_p    STAT5A   RPS6KA1       SYK        AR  \\\n",
       "0          1.285151      -0.568263  1.954124 -0.281063  0.449582  2.023361   \n",
       "1          0.285759      -0.532203  1.647609  3.403616  3.609751 -0.022353   \n",
       "2          0.713491      -0.668358 -0.443786 -0.363164 -0.425634  1.510937   \n",
       "3         -1.660055       2.376602 -0.465215  0.270912 -0.047280 -0.350802   \n",
       "4          1.717278      -0.710055  0.383630  1.332004  1.185233 -0.040809   \n",
       "..              ...            ...       ...       ...       ...       ...   \n",
       "301       -0.819577      -0.667079 -1.225105 -1.112791 -1.025213 -0.848097   \n",
       "302        0.037656       0.512360 -0.921656 -0.726004 -0.928671 -0.747440   \n",
       "303       -0.239817      -0.826299  0.215351 -0.342566 -0.189662 -0.272731   \n",
       "304       -0.162821       0.577339 -0.963641 -0.565410 -0.371684 -0.675042   \n",
       "305        1.009410       0.024047 -1.346919 -1.159087 -1.091578 -0.888954   \n",
       "\n",
       "        WWTR1      CAV1  Grade_N  Mutation.Count  \n",
       "0    1.959172 -0.461987        0       -0.874056  \n",
       "1    0.160177  2.081346        1        3.157008  \n",
       "2    0.850304  0.707080        1       -0.672503  \n",
       "3   -0.042854 -0.299561        1       -0.806871  \n",
       "4    7.926982  0.048166        1       -0.806871  \n",
       "..        ...       ...      ...             ...  \n",
       "301 -0.663970 -0.381327        0       -0.470949  \n",
       "302 -0.642758 -0.388772        0       -1.680268  \n",
       "303  0.180895 -0.451280        1       -1.142793  \n",
       "304 -0.633866  1.913467        1       -0.067843  \n",
       "305 -0.748014  1.091179        1        0.805554  \n",
       "\n",
       "[306 rows x 15 columns]"
      ]
     },
     "execution_count": 10,
     "metadata": {},
     "output_type": "execute_result"
    }
   ],
   "source": [
    "data_omics_clinical"
   ]
  },
  {
   "cell_type": "code",
   "execution_count": 11,
   "id": "1a671742",
   "metadata": {},
   "outputs": [],
   "source": [
    "x_train_uc, x_test_uc, y_train_uc, y_test_uc = train_test_split(\n",
    "   data_omics_clinical, data['outcome'], test_size=0.3, random_state=42)"
   ]
  },
  {
   "cell_type": "markdown",
   "id": "8985ce03",
   "metadata": {},
   "source": [
    "## Modelo de KNN"
   ]
  },
  {
   "cell_type": "markdown",
   "id": "8217a74d",
   "metadata": {},
   "source": [
    "### Modelo unicamente con datos ómicos"
   ]
  },
  {
   "cell_type": "code",
   "execution_count": 12,
   "id": "fe2ef43a",
   "metadata": {},
   "outputs": [
    {
     "name": "stdout",
     "output_type": "stream",
     "text": [
      "Test set accuracy: 0.7608695652173914\n"
     ]
    }
   ],
   "source": [
    "# Crea y entrena el clasificador KNN, n_neighbors=5 y calcula la precisión en el conjunto de prueba\n",
    "knn_univar = KNeighborsClassifier(n_neighbors=5)\n",
    "knn_univar.fit(x_train_u, y_train_u)\n",
    "score_knn_univar = knn_univar.score(x_test_u, y_test_u)\n",
    "print('Test set accuracy:', score_knn_univar)  "
   ]
  },
  {
   "cell_type": "code",
   "execution_count": 13,
   "id": "59b8b658",
   "metadata": {},
   "outputs": [
    {
     "data": {
      "text/html": [
       "<div>\n",
       "<style scoped>\n",
       "    .dataframe tbody tr th:only-of-type {\n",
       "        vertical-align: middle;\n",
       "    }\n",
       "\n",
       "    .dataframe tbody tr th {\n",
       "        vertical-align: top;\n",
       "    }\n",
       "\n",
       "    .dataframe thead th {\n",
       "        text-align: right;\n",
       "    }\n",
       "</style>\n",
       "<table border=\"1\" class=\"dataframe\">\n",
       "  <thead>\n",
       "    <tr style=\"text-align: right;\">\n",
       "      <th>Predictions</th>\n",
       "      <th>0</th>\n",
       "      <th>1</th>\n",
       "    </tr>\n",
       "    <tr>\n",
       "      <th>Actual</th>\n",
       "      <th></th>\n",
       "      <th></th>\n",
       "    </tr>\n",
       "  </thead>\n",
       "  <tbody>\n",
       "    <tr>\n",
       "      <th>0</th>\n",
       "      <td>26</td>\n",
       "      <td>12</td>\n",
       "    </tr>\n",
       "    <tr>\n",
       "      <th>1</th>\n",
       "      <td>10</td>\n",
       "      <td>44</td>\n",
       "    </tr>\n",
       "  </tbody>\n",
       "</table>\n",
       "</div>"
      ],
      "text/plain": [
       "Predictions   0   1\n",
       "Actual             \n",
       "0            26  12\n",
       "1            10  44"
      ]
     },
     "execution_count": 13,
     "metadata": {},
     "output_type": "execute_result"
    }
   ],
   "source": [
    "predictions_knn_univar = knn_univar.predict(x_test_u)\n",
    "pd.crosstab(y_test_u, predictions_knn_univar, rownames=[\"Actual\"], colnames=['Predictions'])"
   ]
  },
  {
   "cell_type": "markdown",
   "id": "08a1577f",
   "metadata": {},
   "source": [
    "### Modelo datos ómicos + grado y numero de mutaciones"
   ]
  },
  {
   "cell_type": "code",
   "execution_count": 14,
   "id": "23705380",
   "metadata": {},
   "outputs": [
    {
     "name": "stdout",
     "output_type": "stream",
     "text": [
      "Test set accuracy: 0.7391304347826086\n"
     ]
    }
   ],
   "source": [
    "# Crea y entrena el clasificador KNN, n_neighbors=5 y calcula la precisión en el conjunto de prueba\n",
    "knn_univar_c = KNeighborsClassifier(n_neighbors=5)\n",
    "knn_univar_c.fit(x_train_uc, y_train_uc)\n",
    "score_knn_univar_c = knn_univar_c.score(x_test_uc, y_test_uc)\n",
    "print('Test set accuracy:', score_knn_univar_c)  "
   ]
  },
  {
   "cell_type": "code",
   "execution_count": 15,
   "id": "e6c1bc3a",
   "metadata": {},
   "outputs": [
    {
     "data": {
      "text/html": [
       "<div>\n",
       "<style scoped>\n",
       "    .dataframe tbody tr th:only-of-type {\n",
       "        vertical-align: middle;\n",
       "    }\n",
       "\n",
       "    .dataframe tbody tr th {\n",
       "        vertical-align: top;\n",
       "    }\n",
       "\n",
       "    .dataframe thead th {\n",
       "        text-align: right;\n",
       "    }\n",
       "</style>\n",
       "<table border=\"1\" class=\"dataframe\">\n",
       "  <thead>\n",
       "    <tr style=\"text-align: right;\">\n",
       "      <th>Predictions</th>\n",
       "      <th>0</th>\n",
       "      <th>1</th>\n",
       "    </tr>\n",
       "    <tr>\n",
       "      <th>Actual</th>\n",
       "      <th></th>\n",
       "      <th></th>\n",
       "    </tr>\n",
       "  </thead>\n",
       "  <tbody>\n",
       "    <tr>\n",
       "      <th>0</th>\n",
       "      <td>23</td>\n",
       "      <td>15</td>\n",
       "    </tr>\n",
       "    <tr>\n",
       "      <th>1</th>\n",
       "      <td>9</td>\n",
       "      <td>45</td>\n",
       "    </tr>\n",
       "  </tbody>\n",
       "</table>\n",
       "</div>"
      ],
      "text/plain": [
       "Predictions   0   1\n",
       "Actual             \n",
       "0            23  15\n",
       "1             9  45"
      ]
     },
     "execution_count": 15,
     "metadata": {},
     "output_type": "execute_result"
    }
   ],
   "source": [
    "predictions_knn_univar_c = knn_univar_c.predict(x_test_uc)\n",
    "pd.crosstab(y_test_uc, predictions_knn_univar_c, rownames=[\"Actual\"], colnames=['Predictions'])"
   ]
  },
  {
   "cell_type": "markdown",
   "id": "1d44c950",
   "metadata": {},
   "source": [
    "## Modelo de regresión logistica"
   ]
  },
  {
   "cell_type": "markdown",
   "id": "9317cae1",
   "metadata": {},
   "source": [
    "### Modelo unicamente con datos ómicos"
   ]
  },
  {
   "cell_type": "code",
   "execution_count": 16,
   "id": "4e6bc8b9",
   "metadata": {},
   "outputs": [
    {
     "name": "stdout",
     "output_type": "stream",
     "text": [
      "Test set accuracy: 0.8369565217391305\n"
     ]
    }
   ],
   "source": [
    "# Crea y entrena el clasificador de regresión logística y calcula la precisión en el conjunto de prueba\n",
    "log_univar = LogisticRegression()\n",
    "log_univar.fit(x_train_u, y_train_u)\n",
    "score_rl_univar = log_univar.score(x_test_u, y_test_u)\n",
    "print('Test set accuracy:', score_rl_univar)  "
   ]
  },
  {
   "cell_type": "code",
   "execution_count": 17,
   "id": "65cef3de",
   "metadata": {},
   "outputs": [
    {
     "data": {
      "text/html": [
       "<div>\n",
       "<style scoped>\n",
       "    .dataframe tbody tr th:only-of-type {\n",
       "        vertical-align: middle;\n",
       "    }\n",
       "\n",
       "    .dataframe tbody tr th {\n",
       "        vertical-align: top;\n",
       "    }\n",
       "\n",
       "    .dataframe thead th {\n",
       "        text-align: right;\n",
       "    }\n",
       "</style>\n",
       "<table border=\"1\" class=\"dataframe\">\n",
       "  <thead>\n",
       "    <tr style=\"text-align: right;\">\n",
       "      <th>Predictions</th>\n",
       "      <th>0</th>\n",
       "      <th>1</th>\n",
       "    </tr>\n",
       "    <tr>\n",
       "      <th>Actual</th>\n",
       "      <th></th>\n",
       "      <th></th>\n",
       "    </tr>\n",
       "  </thead>\n",
       "  <tbody>\n",
       "    <tr>\n",
       "      <th>0</th>\n",
       "      <td>28</td>\n",
       "      <td>10</td>\n",
       "    </tr>\n",
       "    <tr>\n",
       "      <th>1</th>\n",
       "      <td>5</td>\n",
       "      <td>49</td>\n",
       "    </tr>\n",
       "  </tbody>\n",
       "</table>\n",
       "</div>"
      ],
      "text/plain": [
       "Predictions   0   1\n",
       "Actual             \n",
       "0            28  10\n",
       "1             5  49"
      ]
     },
     "execution_count": 17,
     "metadata": {},
     "output_type": "execute_result"
    }
   ],
   "source": [
    "predictions_log_univar = log_univar.predict(x_test_u)\n",
    "pd.crosstab(y_test_u, predictions_log_univar, rownames=[\"Actual\"], colnames=['Predictions'])"
   ]
  },
  {
   "cell_type": "markdown",
   "id": "19f6f2af",
   "metadata": {},
   "source": [
    "### Modelo datos ómicos + grado y numero de mutaciones"
   ]
  },
  {
   "cell_type": "code",
   "execution_count": 18,
   "id": "1aa5f0c0",
   "metadata": {},
   "outputs": [
    {
     "name": "stdout",
     "output_type": "stream",
     "text": [
      "Test set accuracy: 0.782608695652174\n"
     ]
    }
   ],
   "source": [
    "# Crea y entrena el clasificador de regresión logística y calcula la precisión en el conjunto de prueba\n",
    "log_univar_c = LogisticRegression()\n",
    "log_univar_c.fit(x_train_uc, y_train_uc)\n",
    "score_rl_univar_c = log_univar_c.score(x_test_uc, y_test_uc)\n",
    "print('Test set accuracy:', score_rl_univar_c)  "
   ]
  },
  {
   "cell_type": "code",
   "execution_count": 19,
   "id": "3c788234",
   "metadata": {},
   "outputs": [
    {
     "data": {
      "text/html": [
       "<div>\n",
       "<style scoped>\n",
       "    .dataframe tbody tr th:only-of-type {\n",
       "        vertical-align: middle;\n",
       "    }\n",
       "\n",
       "    .dataframe tbody tr th {\n",
       "        vertical-align: top;\n",
       "    }\n",
       "\n",
       "    .dataframe thead th {\n",
       "        text-align: right;\n",
       "    }\n",
       "</style>\n",
       "<table border=\"1\" class=\"dataframe\">\n",
       "  <thead>\n",
       "    <tr style=\"text-align: right;\">\n",
       "      <th>Predictions</th>\n",
       "      <th>0</th>\n",
       "      <th>1</th>\n",
       "    </tr>\n",
       "    <tr>\n",
       "      <th>Actual</th>\n",
       "      <th></th>\n",
       "      <th></th>\n",
       "    </tr>\n",
       "  </thead>\n",
       "  <tbody>\n",
       "    <tr>\n",
       "      <th>0</th>\n",
       "      <td>25</td>\n",
       "      <td>13</td>\n",
       "    </tr>\n",
       "    <tr>\n",
       "      <th>1</th>\n",
       "      <td>7</td>\n",
       "      <td>47</td>\n",
       "    </tr>\n",
       "  </tbody>\n",
       "</table>\n",
       "</div>"
      ],
      "text/plain": [
       "Predictions   0   1\n",
       "Actual             \n",
       "0            25  13\n",
       "1             7  47"
      ]
     },
     "execution_count": 19,
     "metadata": {},
     "output_type": "execute_result"
    }
   ],
   "source": [
    "predictions_log_univar_c = log_univar_c.predict(x_test_uc)\n",
    "pd.crosstab(y_test_uc, predictions_log_univar_c, rownames=[\"Actual\"], colnames=['Predictions'])"
   ]
  },
  {
   "cell_type": "markdown",
   "id": "c074b8aa",
   "metadata": {},
   "source": [
    "## Modelo de arboles aleatorios"
   ]
  },
  {
   "cell_type": "markdown",
   "id": "1d6498ac",
   "metadata": {},
   "source": [
    "### Modelo unicamente con datos ómicos"
   ]
  },
  {
   "cell_type": "code",
   "execution_count": 20,
   "id": "47f36d05",
   "metadata": {},
   "outputs": [
    {
     "name": "stdout",
     "output_type": "stream",
     "text": [
      "Test set accuracy: 0.8152173913043478\n"
     ]
    }
   ],
   "source": [
    "forest_univar = RandomForestClassifier(n_jobs=2, oob_score=True, n_estimators=5000)\n",
    "forest_univar.fit(x_train_u,y_train_u)\n",
    "score_forest_univar = forest_univar.score(x_test_u, y_test_u)\n",
    "print('Test set accuracy:', score_forest_univar)  \n"
   ]
  },
  {
   "cell_type": "code",
   "execution_count": 21,
   "id": "7c7fcc80",
   "metadata": {},
   "outputs": [
    {
     "data": {
      "text/html": [
       "<div>\n",
       "<style scoped>\n",
       "    .dataframe tbody tr th:only-of-type {\n",
       "        vertical-align: middle;\n",
       "    }\n",
       "\n",
       "    .dataframe tbody tr th {\n",
       "        vertical-align: top;\n",
       "    }\n",
       "\n",
       "    .dataframe thead th {\n",
       "        text-align: right;\n",
       "    }\n",
       "</style>\n",
       "<table border=\"1\" class=\"dataframe\">\n",
       "  <thead>\n",
       "    <tr style=\"text-align: right;\">\n",
       "      <th>Predictions</th>\n",
       "      <th>0</th>\n",
       "      <th>1</th>\n",
       "    </tr>\n",
       "    <tr>\n",
       "      <th>Actual</th>\n",
       "      <th></th>\n",
       "      <th></th>\n",
       "    </tr>\n",
       "  </thead>\n",
       "  <tbody>\n",
       "    <tr>\n",
       "      <th>0</th>\n",
       "      <td>27</td>\n",
       "      <td>11</td>\n",
       "    </tr>\n",
       "    <tr>\n",
       "      <th>1</th>\n",
       "      <td>6</td>\n",
       "      <td>48</td>\n",
       "    </tr>\n",
       "  </tbody>\n",
       "</table>\n",
       "</div>"
      ],
      "text/plain": [
       "Predictions   0   1\n",
       "Actual             \n",
       "0            27  11\n",
       "1             6  48"
      ]
     },
     "execution_count": 21,
     "metadata": {},
     "output_type": "execute_result"
    }
   ],
   "source": [
    "predictions_forest_univar = forest_univar.predict(x_test_u)\n",
    "pd.crosstab(y_test_u, predictions_forest_univar, rownames=[\"Actual\"], colnames=['Predictions'])"
   ]
  },
  {
   "cell_type": "markdown",
   "id": "55109bba",
   "metadata": {},
   "source": [
    "### Modelo datos ómicos + grado y numero de mutaciones"
   ]
  },
  {
   "cell_type": "code",
   "execution_count": 22,
   "id": "29e13e24",
   "metadata": {},
   "outputs": [
    {
     "name": "stdout",
     "output_type": "stream",
     "text": [
      "Test set accuracy: 0.8152173913043478\n"
     ]
    }
   ],
   "source": [
    "forest_univar_c = RandomForestClassifier(n_jobs=2, oob_score=True, n_estimators=5000)\n",
    "forest_univar_c.fit(x_train_uc,y_train_uc)\n",
    "score_forest_univar_c = forest_univar_c.score(x_test_uc, y_test_uc)\n",
    "print('Test set accuracy:', score_forest_univar_c)  \n"
   ]
  },
  {
   "cell_type": "code",
   "execution_count": 23,
   "id": "7d471407",
   "metadata": {},
   "outputs": [
    {
     "data": {
      "text/html": [
       "<div>\n",
       "<style scoped>\n",
       "    .dataframe tbody tr th:only-of-type {\n",
       "        vertical-align: middle;\n",
       "    }\n",
       "\n",
       "    .dataframe tbody tr th {\n",
       "        vertical-align: top;\n",
       "    }\n",
       "\n",
       "    .dataframe thead th {\n",
       "        text-align: right;\n",
       "    }\n",
       "</style>\n",
       "<table border=\"1\" class=\"dataframe\">\n",
       "  <thead>\n",
       "    <tr style=\"text-align: right;\">\n",
       "      <th>Predictions</th>\n",
       "      <th>0</th>\n",
       "      <th>1</th>\n",
       "    </tr>\n",
       "    <tr>\n",
       "      <th>Actual</th>\n",
       "      <th></th>\n",
       "      <th></th>\n",
       "    </tr>\n",
       "  </thead>\n",
       "  <tbody>\n",
       "    <tr>\n",
       "      <th>0</th>\n",
       "      <td>26</td>\n",
       "      <td>12</td>\n",
       "    </tr>\n",
       "    <tr>\n",
       "      <th>1</th>\n",
       "      <td>5</td>\n",
       "      <td>49</td>\n",
       "    </tr>\n",
       "  </tbody>\n",
       "</table>\n",
       "</div>"
      ],
      "text/plain": [
       "Predictions   0   1\n",
       "Actual             \n",
       "0            26  12\n",
       "1             5  49"
      ]
     },
     "execution_count": 23,
     "metadata": {},
     "output_type": "execute_result"
    }
   ],
   "source": [
    "predictions_forest_univar_c = forest_univar_c.predict(x_test_uc)\n",
    "pd.crosstab(y_test_uc, predictions_forest_univar_c, rownames=[\"Actual\"], colnames=['Predictions'])"
   ]
  },
  {
   "cell_type": "markdown",
   "id": "038f52ff",
   "metadata": {},
   "source": [
    "# Predicción del estado del paciente empleando datos ómicos del análisis multivariado"
   ]
  },
  {
   "cell_type": "code",
   "execution_count": null,
   "id": "60b72c0d",
   "metadata": {},
   "outputs": [],
   "source": [
    "columnas_mult = [\"ACACA\", \"AKT1S1\", \"AKT2\", \"AKT3\", \"ARAF\", \"AR\", \"BAD\", \"BAK1\", \"BAP1\", \"BAX\", \"BCL2L1\", \"BRAF\", \"CASP7\", \"CAV1\", \"CDKN1B\", \"CHEK2\", \"CLDN7\", \"COL6A1\", \"EEF2K\", \"EIF4G1\",\n",
    "\"ETS1\", \"FASN\", \"FN1\", \"FOXO3\", \"GSK3A\", \"GSK3B\", \"IGFBP2\", \"INPP4B\", \"IRS1\", \"ITGA2\", \"KIT\", \"MAP2K1\", \"MAPK3\", \"MAPK9\", \"MTOR\", \"NFKB1\", \"NRAS\", \"PARK7\", \"PCNA\", \"PDK1\",\n",
    "\"PECAM1\", \"PIK3R1\", \"PIK3R2\", \"PRDX1\", \"PREX1\", \"PRKCA\", \"PRKCB\", \"PRKCD\", \"PTEN\", \"PXN\", \"RAB11A\", \"RAD50\", \"RB1\", \"RBM15\", \"RICTOR\", \"RPS6KA1\", \"SERPINE1\", \"SHC1\", \"SMAD3\", \"STAT3\",\n",
    "\"STAT5A\", \"STMN1\", \"SYK\", \"TP53BP1\", \"TSC1\", \"WWTR1\", \"XRCC1\", \"YAP1\", \"YBX1\", \"14-3-3_epsilon_p\", \"4E-BP1_pT37_T46_p\", \"4E-BP1_pT70_p\", \"53BP1_p\", \"ACC1_p\", \"ACC_pS79_p\", \"AR_p\", \"ATM_p\", \"B-Raf_p\", \"Bad_pS112_p\", \"Bax_p\",\n",
    "\"Beclin_p\", \"C-Raf_p\", \"CD49b_p\", \"Chk2_p\", \"DJ-1_p\", \"Dvl3_p\", \"ER-alpha_pS118_p\", \"FASN_p\", \"GSK3-alpha-beta_p\", \"HER3_pY1289_p\", \"Heregulin_p\", \"INPP4B_p\", \"IRS1_p\", \"MEK1_p\", \"PDK1_p\", \"PDK1_pS241_p\", \"PRAS40_pT246_p\", \"PRDX1_p\", \"PREX1_p\", \"PTEN_p\",\n",
    "\"S6_pS235_S236_p\", \"S6_pS240_S244_p\", \"STAT3_pY705_p\", \"STAT5-alpha_p\", \"Smad1_p\", \"Syk_p\", \"TAZ_p\", \"Tuberin_p\", \"VEGFR2_p\", \"YAP_p\", \"YAP_pS127_p\", \"c-Jun_pS73_p\", \"c-Kit_p\", \"p27_p\", \"p38_pT180_Y182_p\"\n",
    "]\n",
    "\n",
    "omics_mult = data_omics[columnas_mult]\n",
    "\n",
    "x_train_m, x_test_m, y_train_m, y_test_m = train_test_split(\n",
    "    omics_mult, data['outcome'], test_size=0.3, random_state=42)"
   ]
  },
  {
   "cell_type": "markdown",
   "id": "a18de6d6",
   "metadata": {},
   "source": [
    "## Reducción de dimensionalidad con PCA"
   ]
  },
  {
   "cell_type": "code",
   "execution_count": 25,
   "id": "79001c72",
   "metadata": {},
   "outputs": [],
   "source": [
    "from sklearn.decomposition import PCA\n",
    "import numpy as np"
   ]
  },
  {
   "cell_type": "code",
   "execution_count": 26,
   "id": "df5ee2bf",
   "metadata": {},
   "outputs": [],
   "source": [
    "pca = PCA()\n",
    "x_pca_m = pca.fit_transform(x_train_m)"
   ]
  },
  {
   "cell_type": "code",
   "execution_count": 27,
   "id": "e0e6b379",
   "metadata": {},
   "outputs": [
    {
     "data": {
      "image/png": "[encoded data removed]",
      "text/plain": [
       "<Figure size 800x500 with 1 Axes>"
      ]
     },
     "metadata": {},
     "output_type": "display_data"
    },
    {
     "name": "stdout",
     "output_type": "stream",
     "text": [
      "Con 55 componentes se alcanza el 95.06% de la varianza total.\n"
     ]
    }
   ],
   "source": [
    "# Obtener la varianza explicada\n",
    "var = pca.explained_variance_ratio_\n",
    "\n",
    "# Calcular la varianza acumulada\n",
    "sum_var = np.cumsum(var)\n",
    "sum_var_percent = np.round(sum_var, 4) * 100\n",
    "\n",
    "# Encontrar el número de componentes necesarios para llegar al 95%\n",
    "n_components_95 = np.argmax(sum_var >= 0.95) + 1   # +1 porque Python indexa desde 0\n",
    "var_95 = sum_var_percent[n_components_95 - 1]  \n",
    "# Graficar\n",
    "plt.figure(figsize=(8,5))\n",
    "plt.plot(range(1, len(var) + 1), sum_var_percent, marker='o', color='blue')\n",
    "plt.grid()\n",
    "\n",
    "# Línea vertical en el punto de 95%\n",
    "plt.axvline(x=n_components_95, color='red', linestyle='--', label=f'{n_components_95} componentes')\n",
    "plt.scatter(n_components_95, var_95, color='red', zorder=5)\n",
    "plt.text(n_components_95 + 0.3, var_95 - 3, f\"{var_95:.2f}%\", color=\"red\")\n",
    "\n",
    "plt.xlabel(\"Número de Componentes Principales\")\n",
    "plt.ylabel(\"Varianza Acumulada (%)\")\n",
    "plt.title(\"Varianza Acumulada del PCA\")\n",
    "plt.legend()\n",
    "plt.show()\n",
    "\n",
    "print(f\"Con {n_components_95} componentes se alcanza el {var_95:.2f}% de la varianza total.\")"
   ]
  },
  {
   "cell_type": "markdown",
   "id": "2ee6d157",
   "metadata": {},
   "source": [
    "## Modelo de KNN"
   ]
  },
  {
   "cell_type": "code",
   "execution_count": 28,
   "id": "e41f3845",
   "metadata": {},
   "outputs": [
    {
     "data": {
      "text/plain": [
       "((214, 115), (92, 115), (214,), (92,))"
      ]
     },
     "execution_count": 28,
     "metadata": {},
     "output_type": "execute_result"
    }
   ],
   "source": [
    "x_train_m.shape, x_test_m.shape, y_train_m.shape, y_test_m.shape"
   ]
  },
  {
   "cell_type": "code",
   "execution_count": 29,
   "id": "f46319f8",
   "metadata": {},
   "outputs": [
    {
     "name": "stdout",
     "output_type": "stream",
     "text": [
      "Test set accuracy: 0.7608695652173914\n"
     ]
    }
   ],
   "source": [
    "# Crea y entrena el clasificador KNN, n_neighbors=5 y calcula la precisión en el conjunto de prueba\n",
    "knn_mult = KNeighborsClassifier(n_neighbors=5)\n",
    "knn_mult.fit(x_train_m, y_train_m)\n",
    "score_mult = knn_mult.score(x_test_m, y_test_m)\n",
    "print('Test set accuracy:', score_mult)  "
   ]
  },
  {
   "cell_type": "code",
   "execution_count": 30,
   "id": "d6cba1b0",
   "metadata": {},
   "outputs": [
    {
     "data": {
      "text/html": [
       "<div>\n",
       "<style scoped>\n",
       "    .dataframe tbody tr th:only-of-type {\n",
       "        vertical-align: middle;\n",
       "    }\n",
       "\n",
       "    .dataframe tbody tr th {\n",
       "        vertical-align: top;\n",
       "    }\n",
       "\n",
       "    .dataframe thead th {\n",
       "        text-align: right;\n",
       "    }\n",
       "</style>\n",
       "<table border=\"1\" class=\"dataframe\">\n",
       "  <thead>\n",
       "    <tr style=\"text-align: right;\">\n",
       "      <th>Predictions</th>\n",
       "      <th>0</th>\n",
       "      <th>1</th>\n",
       "    </tr>\n",
       "    <tr>\n",
       "      <th>Actual</th>\n",
       "      <th></th>\n",
       "      <th></th>\n",
       "    </tr>\n",
       "  </thead>\n",
       "  <tbody>\n",
       "    <tr>\n",
       "      <th>0</th>\n",
       "      <td>24</td>\n",
       "      <td>14</td>\n",
       "    </tr>\n",
       "    <tr>\n",
       "      <th>1</th>\n",
       "      <td>8</td>\n",
       "      <td>46</td>\n",
       "    </tr>\n",
       "  </tbody>\n",
       "</table>\n",
       "</div>"
      ],
      "text/plain": [
       "Predictions   0   1\n",
       "Actual             \n",
       "0            24  14\n",
       "1             8  46"
      ]
     },
     "execution_count": 30,
     "metadata": {},
     "output_type": "execute_result"
    }
   ],
   "source": [
    "predictions_knn_mult = knn_mult.predict(x_test_m)\n",
    "pd.crosstab(y_test_m, predictions_knn_mult, rownames=[\"Actual\"], colnames=['Predictions'])"
   ]
  },
  {
   "cell_type": "code",
   "execution_count": 31,
   "id": "8d60a90f",
   "metadata": {},
   "outputs": [],
   "source": [
    "pca = PCA(n_components=60)\n",
    "x_train_m_pca = pca.fit_transform(x_train_m)\n",
    "x_test_m_pca = pca.transform(x_test_m)"
   ]
  },
  {
   "cell_type": "code",
   "execution_count": 32,
   "id": "9bc549d8",
   "metadata": {},
   "outputs": [
    {
     "name": "stdout",
     "output_type": "stream",
     "text": [
      "Test set accuracy: 0.7934782608695652\n"
     ]
    }
   ],
   "source": [
    "# Crea y entrena el clasificador KNN, n_neighbors=5 y calcula la precisión en el conjunto de prueba\n",
    "knn_mult_pca = KNeighborsClassifier(n_neighbors=5)\n",
    "knn_mult_pca.fit(x_train_m_pca, y_train_m)\n",
    "score_mult_pca = knn_mult_pca.score(x_test_m_pca, y_test_m)\n",
    "print('Test set accuracy:', score_mult_pca)  "
   ]
  },
  {
   "cell_type": "code",
   "execution_count": 34,
   "id": "1b87543c",
   "metadata": {},
   "outputs": [
    {
     "data": {
      "text/html": [
       "<div>\n",
       "<style scoped>\n",
       "    .dataframe tbody tr th:only-of-type {\n",
       "        vertical-align: middle;\n",
       "    }\n",
       "\n",
       "    .dataframe tbody tr th {\n",
       "        vertical-align: top;\n",
       "    }\n",
       "\n",
       "    .dataframe thead th {\n",
       "        text-align: right;\n",
       "    }\n",
       "</style>\n",
       "<table border=\"1\" class=\"dataframe\">\n",
       "  <thead>\n",
       "    <tr style=\"text-align: right;\">\n",
       "      <th>Predictions</th>\n",
       "      <th>0</th>\n",
       "      <th>1</th>\n",
       "    </tr>\n",
       "    <tr>\n",
       "      <th>Actual</th>\n",
       "      <th></th>\n",
       "      <th></th>\n",
       "    </tr>\n",
       "  </thead>\n",
       "  <tbody>\n",
       "    <tr>\n",
       "      <th>0</th>\n",
       "      <td>27</td>\n",
       "      <td>11</td>\n",
       "    </tr>\n",
       "    <tr>\n",
       "      <th>1</th>\n",
       "      <td>8</td>\n",
       "      <td>46</td>\n",
       "    </tr>\n",
       "  </tbody>\n",
       "</table>\n",
       "</div>"
      ],
      "text/plain": [
       "Predictions   0   1\n",
       "Actual             \n",
       "0            27  11\n",
       "1             8  46"
      ]
     },
     "execution_count": 34,
     "metadata": {},
     "output_type": "execute_result"
    }
   ],
   "source": [
    "predictions_knn_mult_pca = knn_mult_pca.predict(x_test_m_pca)\n",
    "pd.crosstab(y_test_m, predictions_knn_mult_pca, rownames=[\"Actual\"], colnames=['Predictions'])"
   ]
  },
  {
   "cell_type": "markdown",
   "id": "4d3e738e",
   "metadata": {},
   "source": [
    "## Modelo de regresión logistica"
   ]
  },
  {
   "cell_type": "markdown",
   "id": "3d430c22",
   "metadata": {},
   "source": [
    "### Modelo con datos ómicos del análisis Multivariado"
   ]
  },
  {
   "cell_type": "code",
   "execution_count": 35,
   "id": "f8aa3557",
   "metadata": {},
   "outputs": [
    {
     "name": "stdout",
     "output_type": "stream",
     "text": [
      "Test set accuracy: 0.6739130434782609\n"
     ]
    }
   ],
   "source": [
    "# Crea y entrena el clasificador de regresión logística y calcula la precisión en el conjunto de prueba\n",
    "log_mult = LogisticRegression()\n",
    "log_mult.fit(x_train_m, y_train_m)\n",
    "score_rl_mult = log_mult.score(x_test_m, y_test_m)\n",
    "print('Test set accuracy:', score_rl_mult)  "
   ]
  },
  {
   "cell_type": "code",
   "execution_count": 36,
   "id": "c2f1c50b",
   "metadata": {},
   "outputs": [
    {
     "data": {
      "text/html": [
       "<div>\n",
       "<style scoped>\n",
       "    .dataframe tbody tr th:only-of-type {\n",
       "        vertical-align: middle;\n",
       "    }\n",
       "\n",
       "    .dataframe tbody tr th {\n",
       "        vertical-align: top;\n",
       "    }\n",
       "\n",
       "    .dataframe thead th {\n",
       "        text-align: right;\n",
       "    }\n",
       "</style>\n",
       "<table border=\"1\" class=\"dataframe\">\n",
       "  <thead>\n",
       "    <tr style=\"text-align: right;\">\n",
       "      <th>Predictions</th>\n",
       "      <th>0</th>\n",
       "      <th>1</th>\n",
       "    </tr>\n",
       "    <tr>\n",
       "      <th>Actual</th>\n",
       "      <th></th>\n",
       "      <th></th>\n",
       "    </tr>\n",
       "  </thead>\n",
       "  <tbody>\n",
       "    <tr>\n",
       "      <th>0</th>\n",
       "      <td>22</td>\n",
       "      <td>16</td>\n",
       "    </tr>\n",
       "    <tr>\n",
       "      <th>1</th>\n",
       "      <td>14</td>\n",
       "      <td>40</td>\n",
       "    </tr>\n",
       "  </tbody>\n",
       "</table>\n",
       "</div>"
      ],
      "text/plain": [
       "Predictions   0   1\n",
       "Actual             \n",
       "0            22  16\n",
       "1            14  40"
      ]
     },
     "execution_count": 36,
     "metadata": {},
     "output_type": "execute_result"
    }
   ],
   "source": [
    "predictions_log_mult = log_mult.predict(x_test_m)\n",
    "pd.crosstab(y_test_m, predictions_log_mult, rownames=[\"Actual\"], colnames=['Predictions'])"
   ]
  },
  {
   "cell_type": "markdown",
   "id": "3a8e2d2d",
   "metadata": {},
   "source": [
    "### Modelo con datos ómicos del análisis Multivariado + PCA"
   ]
  },
  {
   "cell_type": "code",
   "execution_count": 37,
   "id": "5dfd348c",
   "metadata": {},
   "outputs": [
    {
     "name": "stdout",
     "output_type": "stream",
     "text": [
      "Test set accuracy: 0.75\n"
     ]
    }
   ],
   "source": [
    "# Crea y entrena el clasificador de regresión logística y calcula la precisión en el conjunto de prueba\n",
    "log_mult_pca = LogisticRegression()\n",
    "log_mult_pca.fit(x_train_m_pca, y_train_m)\n",
    "score_rl_mult_pca = log_mult_pca.score(x_test_m_pca, y_test_m)\n",
    "print('Test set accuracy:', score_rl_mult_pca)  "
   ]
  },
  {
   "cell_type": "code",
   "execution_count": 38,
   "id": "947e0269",
   "metadata": {},
   "outputs": [
    {
     "data": {
      "text/html": [
       "<div>\n",
       "<style scoped>\n",
       "    .dataframe tbody tr th:only-of-type {\n",
       "        vertical-align: middle;\n",
       "    }\n",
       "\n",
       "    .dataframe tbody tr th {\n",
       "        vertical-align: top;\n",
       "    }\n",
       "\n",
       "    .dataframe thead th {\n",
       "        text-align: right;\n",
       "    }\n",
       "</style>\n",
       "<table border=\"1\" class=\"dataframe\">\n",
       "  <thead>\n",
       "    <tr style=\"text-align: right;\">\n",
       "      <th>Predictions</th>\n",
       "      <th>0</th>\n",
       "      <th>1</th>\n",
       "    </tr>\n",
       "    <tr>\n",
       "      <th>Actual</th>\n",
       "      <th></th>\n",
       "      <th></th>\n",
       "    </tr>\n",
       "  </thead>\n",
       "  <tbody>\n",
       "    <tr>\n",
       "      <th>0</th>\n",
       "      <td>28</td>\n",
       "      <td>10</td>\n",
       "    </tr>\n",
       "    <tr>\n",
       "      <th>1</th>\n",
       "      <td>13</td>\n",
       "      <td>41</td>\n",
       "    </tr>\n",
       "  </tbody>\n",
       "</table>\n",
       "</div>"
      ],
      "text/plain": [
       "Predictions   0   1\n",
       "Actual             \n",
       "0            28  10\n",
       "1            13  41"
      ]
     },
     "execution_count": 38,
     "metadata": {},
     "output_type": "execute_result"
    }
   ],
   "source": [
    "predictions_log_mult_pca = log_mult_pca.predict(x_test_m_pca)\n",
    "pd.crosstab(y_test_m, predictions_log_mult_pca, rownames=[\"Actual\"], colnames=['Predictions'])"
   ]
  },
  {
   "cell_type": "markdown",
   "id": "fd8eedce",
   "metadata": {},
   "source": [
    "## Modelo de arboles aleatorios"
   ]
  },
  {
   "cell_type": "markdown",
   "id": "850b32cb",
   "metadata": {},
   "source": [
    "### Modelo con datos ómicos del análisis Multivariado"
   ]
  },
  {
   "cell_type": "code",
   "execution_count": 39,
   "id": "a40cac49",
   "metadata": {},
   "outputs": [
    {
     "name": "stdout",
     "output_type": "stream",
     "text": [
      "Test set accuracy: 0.8152173913043478\n"
     ]
    }
   ],
   "source": [
    "forest_mult = RandomForestClassifier(n_jobs=2, oob_score=True, n_estimators=5000)\n",
    "forest_mult.fit(x_train_m,y_train_m)\n",
    "score_forest_mult = forest_mult.score(x_test_m, y_test_m)\n",
    "print('Test set accuracy:', score_forest_mult)  \n"
   ]
  },
  {
   "cell_type": "code",
   "execution_count": 40,
   "id": "2222b423",
   "metadata": {},
   "outputs": [
    {
     "data": {
      "text/html": [
       "<div>\n",
       "<style scoped>\n",
       "    .dataframe tbody tr th:only-of-type {\n",
       "        vertical-align: middle;\n",
       "    }\n",
       "\n",
       "    .dataframe tbody tr th {\n",
       "        vertical-align: top;\n",
       "    }\n",
       "\n",
       "    .dataframe thead th {\n",
       "        text-align: right;\n",
       "    }\n",
       "</style>\n",
       "<table border=\"1\" class=\"dataframe\">\n",
       "  <thead>\n",
       "    <tr style=\"text-align: right;\">\n",
       "      <th>Predictions</th>\n",
       "      <th>0</th>\n",
       "      <th>1</th>\n",
       "    </tr>\n",
       "    <tr>\n",
       "      <th>Actual</th>\n",
       "      <th></th>\n",
       "      <th></th>\n",
       "    </tr>\n",
       "  </thead>\n",
       "  <tbody>\n",
       "    <tr>\n",
       "      <th>0</th>\n",
       "      <td>26</td>\n",
       "      <td>12</td>\n",
       "    </tr>\n",
       "    <tr>\n",
       "      <th>1</th>\n",
       "      <td>5</td>\n",
       "      <td>49</td>\n",
       "    </tr>\n",
       "  </tbody>\n",
       "</table>\n",
       "</div>"
      ],
      "text/plain": [
       "Predictions   0   1\n",
       "Actual             \n",
       "0            26  12\n",
       "1             5  49"
      ]
     },
     "execution_count": 40,
     "metadata": {},
     "output_type": "execute_result"
    }
   ],
   "source": [
    "predictions_forest_mult = forest_mult.predict(x_test_m)\n",
    "pd.crosstab(y_test_m, predictions_forest_mult, rownames=[\"Actual\"], colnames=['Predictions'])"
   ]
  },
  {
   "cell_type": "markdown",
   "id": "57f03031",
   "metadata": {},
   "source": [
    "### Modelo con datos ómicos del análisis Multivariado + PCA"
   ]
  },
  {
   "cell_type": "code",
   "execution_count": 41,
   "id": "2fc4c5d8",
   "metadata": {},
   "outputs": [
    {
     "name": "stdout",
     "output_type": "stream",
     "text": [
      "Test set accuracy: 0.717391304347826\n"
     ]
    }
   ],
   "source": [
    "forest_mult_pca = RandomForestClassifier(n_jobs=2, oob_score=True, n_estimators=5000)\n",
    "forest_mult_pca.fit(x_train_m_pca,y_train_m)\n",
    "score_forest_mult_pca = forest_mult_pca.score(x_test_m_pca, y_test_m)\n",
    "print('Test set accuracy:', score_forest_mult_pca)  \n"
   ]
  },
  {
   "cell_type": "code",
   "execution_count": 42,
   "id": "df024310",
   "metadata": {},
   "outputs": [
    {
     "data": {
      "text/html": [
       "<div>\n",
       "<style scoped>\n",
       "    .dataframe tbody tr th:only-of-type {\n",
       "        vertical-align: middle;\n",
       "    }\n",
       "\n",
       "    .dataframe tbody tr th {\n",
       "        vertical-align: top;\n",
       "    }\n",
       "\n",
       "    .dataframe thead th {\n",
       "        text-align: right;\n",
       "    }\n",
       "</style>\n",
       "<table border=\"1\" class=\"dataframe\">\n",
       "  <thead>\n",
       "    <tr style=\"text-align: right;\">\n",
       "      <th>Predictions</th>\n",
       "      <th>0</th>\n",
       "      <th>1</th>\n",
       "    </tr>\n",
       "    <tr>\n",
       "      <th>Actual</th>\n",
       "      <th></th>\n",
       "      <th></th>\n",
       "    </tr>\n",
       "  </thead>\n",
       "  <tbody>\n",
       "    <tr>\n",
       "      <th>0</th>\n",
       "      <td>16</td>\n",
       "      <td>22</td>\n",
       "    </tr>\n",
       "    <tr>\n",
       "      <th>1</th>\n",
       "      <td>4</td>\n",
       "      <td>50</td>\n",
       "    </tr>\n",
       "  </tbody>\n",
       "</table>\n",
       "</div>"
      ],
      "text/plain": [
       "Predictions   0   1\n",
       "Actual             \n",
       "0            16  22\n",
       "1             4  50"
      ]
     },
     "execution_count": 42,
     "metadata": {},
     "output_type": "execute_result"
    }
   ],
   "source": [
    "predictions_mult_pca = forest_mult_pca.predict(x_test_m_pca)\n",
    "pd.crosstab(y_test_m, predictions_mult_pca, rownames=[\"Actual\"], colnames=['Predictions'])"
   ]
  },
  {
   "cell_type": "markdown",
   "id": "1b895877",
   "metadata": {},
   "source": [
    "# Predicción del estado del paciente empleando datos ómicos del análisis multivariado, proteinas y genes con VIP > 1.5"
   ]
  },
  {
   "cell_type": "code",
   "execution_count": 43,
   "id": "d990db07",
   "metadata": {},
   "outputs": [],
   "source": [
    "columnas_mult_15 = [\"STAT5A\",\"YBX1\",\"XRCC1\",\"RPS6KA1\",\"PARK7\",\"ACACA\",\"SYK\",\"FASN\",\"Syk_p\",\"NRAS\",\"PRKCD\",\"MTOR\",\"YAP_pS127_p\",\"PRDX1\",\"ETS1\",\"AR_p\",\"AKT2\",\"YAP1\",\"AR\",\"EEF2K\",\"AKT1S1\",\"GSK3B\",\"GSK3A\",\"PREX1\",\"AKT3\",\"ACC_pS79_p\",\"53BP1_p\",\"DJ-1_p\",\"BCL2L1\",\"BAP1\",\"IRS1\",\"STAT3\",\"ACC1_p\",\"YAP_p\",\"PDK1\",\"HER3_pY1289_p\",\"PXN\",\"BAX\"]\n",
    "\n",
    "omics_mult_15 = data_omics[columnas_mult_15]\n",
    "\n",
    "x_train_m15, x_test_m15, y_train_m15, y_test_m15 = train_test_split(\n",
    "    omics_mult_15, data['outcome'], test_size=0.3, random_state=42)"
   ]
  },
  {
   "cell_type": "markdown",
   "id": "ed2337bd",
   "metadata": {},
   "source": [
    "## Reducción de dimensionalidad con PCA en datos ómicos del análisis multivariado, proteinas y genes con VIP > 1.5"
   ]
  },
  {
   "cell_type": "code",
   "execution_count": 52,
   "id": "c5de89b2",
   "metadata": {},
   "outputs": [],
   "source": [
    "pca15 = PCA()\n",
    "x_pca_m15 = pca15.fit_transform(x_train_m15)"
   ]
  },
  {
   "cell_type": "code",
   "execution_count": 53,
   "id": "6c497427",
   "metadata": {},
   "outputs": [
    {
     "data": {
      "image/png": "[encoded data removed]",
      "text/plain": [
       "<Figure size 800x500 with 1 Axes>"
      ]
     },
     "metadata": {},
     "output_type": "display_data"
    },
    {
     "name": "stdout",
     "output_type": "stream",
     "text": [
      "Con 25 componentes se alcanza el 95.20% de la varianza total.\n"
     ]
    }
   ],
   "source": [
    "# Obtener la varianza explicada\n",
    "var = pca15.explained_variance_ratio_\n",
    "\n",
    "# Calcular la varianza acumulada\n",
    "sum_var = np.cumsum(var)\n",
    "sum_var_percent = np.round(sum_var, 4) * 100\n",
    "\n",
    "# Encontrar el número de componentes necesarios para llegar al 95%\n",
    "n_components_95 = np.argmax(sum_var >= 0.95) + 1   # +1 porque Python indexa desde 0\n",
    "var_95 = sum_var_percent[n_components_95 - 1]  \n",
    "# Graficar\n",
    "plt.figure(figsize=(8,5))\n",
    "plt.plot(range(1, len(var) + 1), sum_var_percent, marker='o', color='blue')\n",
    "plt.grid()\n",
    "\n",
    "# Línea vertical en el punto de 95%\n",
    "plt.axvline(x=n_components_95, color='red', linestyle='--', label=f'{n_components_95} componentes')\n",
    "plt.scatter(n_components_95, var_95, color='red', zorder=5)\n",
    "plt.text(n_components_95 + 0.3, var_95 - 3, f\"{var_95:.2f}%\", color=\"red\")\n",
    "\n",
    "plt.xlabel(\"Número de Componentes Principales\")\n",
    "plt.ylabel(\"Varianza Acumulada (%)\")\n",
    "plt.title(\"Varianza Acumulada del PCA\")\n",
    "plt.legend()\n",
    "plt.show()\n",
    "\n",
    "print(f\"Con {n_components_95} componentes se alcanza el {var_95:.2f}% de la varianza total.\")"
   ]
  },
  {
   "cell_type": "code",
   "execution_count": 55,
   "id": "b66e6ecd",
   "metadata": {},
   "outputs": [],
   "source": [
    "pca15 = PCA(n_components=25)\n",
    "x_train_m_pca15 = pca15.fit_transform(x_train_m15)\n",
    "x_test_m_pca15 = pca15.transform(x_test_m15)"
   ]
  },
  {
   "cell_type": "markdown",
   "id": "0bbda2d3",
   "metadata": {},
   "source": [
    "## Modelo de KNN"
   ]
  },
  {
   "cell_type": "markdown",
   "id": "ef4d31fb",
   "metadata": {},
   "source": [
    "### Modelo con datos ómicos del análisis Multivariado"
   ]
  },
  {
   "cell_type": "code",
   "execution_count": 44,
   "id": "ba8bc715",
   "metadata": {},
   "outputs": [
    {
     "name": "stdout",
     "output_type": "stream",
     "text": [
      "Test set accuracy: 0.7934782608695652\n"
     ]
    }
   ],
   "source": [
    "# Crea y entrena el clasificador KNN, n_neighbors=5 y calcula la precisión en el conjunto de prueba\n",
    "knn_mult15 = KNeighborsClassifier(n_neighbors=5)\n",
    "knn_mult15.fit(x_train_m15, y_train_m15)\n",
    "score_mult15 = knn_mult15.score(x_test_m15, y_test_m15)\n",
    "print('Test set accuracy:', score_mult15)  "
   ]
  },
  {
   "cell_type": "code",
   "execution_count": 46,
   "id": "b26cfb8c",
   "metadata": {},
   "outputs": [
    {
     "data": {
      "text/html": [
       "<div>\n",
       "<style scoped>\n",
       "    .dataframe tbody tr th:only-of-type {\n",
       "        vertical-align: middle;\n",
       "    }\n",
       "\n",
       "    .dataframe tbody tr th {\n",
       "        vertical-align: top;\n",
       "    }\n",
       "\n",
       "    .dataframe thead th {\n",
       "        text-align: right;\n",
       "    }\n",
       "</style>\n",
       "<table border=\"1\" class=\"dataframe\">\n",
       "  <thead>\n",
       "    <tr style=\"text-align: right;\">\n",
       "      <th>Predictions</th>\n",
       "      <th>0</th>\n",
       "      <th>1</th>\n",
       "    </tr>\n",
       "    <tr>\n",
       "      <th>Actual</th>\n",
       "      <th></th>\n",
       "      <th></th>\n",
       "    </tr>\n",
       "  </thead>\n",
       "  <tbody>\n",
       "    <tr>\n",
       "      <th>0</th>\n",
       "      <td>27</td>\n",
       "      <td>11</td>\n",
       "    </tr>\n",
       "    <tr>\n",
       "      <th>1</th>\n",
       "      <td>8</td>\n",
       "      <td>46</td>\n",
       "    </tr>\n",
       "  </tbody>\n",
       "</table>\n",
       "</div>"
      ],
      "text/plain": [
       "Predictions   0   1\n",
       "Actual             \n",
       "0            27  11\n",
       "1             8  46"
      ]
     },
     "execution_count": 46,
     "metadata": {},
     "output_type": "execute_result"
    }
   ],
   "source": [
    "predictions_knn_mult15 = knn_mult15.predict(x_test_m15)\n",
    "pd.crosstab(y_test_m15, predictions_knn_mult15, rownames=[\"Actual\"], colnames=['Predictions'])"
   ]
  },
  {
   "cell_type": "markdown",
   "id": "1833a4f9",
   "metadata": {},
   "source": [
    "### Modelo con datos ómicos del análisis Multivariado + PCA"
   ]
  },
  {
   "cell_type": "code",
   "execution_count": 56,
   "id": "330b7787",
   "metadata": {},
   "outputs": [
    {
     "name": "stdout",
     "output_type": "stream",
     "text": [
      "Test set accuracy: 0.7934782608695652\n"
     ]
    }
   ],
   "source": [
    "# Crea y entrena el clasificador KNN, n_neighbors=5 y calcula la precisión en el conjunto de prueba\n",
    "knn_mult_pca15 = KNeighborsClassifier(n_neighbors=5)\n",
    "knn_mult_pca15.fit(x_train_m_pca15, y_train_m15)\n",
    "score_mult_pca15 = knn_mult_pca15.score(x_test_m_pca15, y_test_m15)\n",
    "print('Test set accuracy:', score_mult_pca15)  "
   ]
  },
  {
   "cell_type": "code",
   "execution_count": 57,
   "id": "aa0133db",
   "metadata": {},
   "outputs": [
    {
     "data": {
      "text/html": [
       "<div>\n",
       "<style scoped>\n",
       "    .dataframe tbody tr th:only-of-type {\n",
       "        vertical-align: middle;\n",
       "    }\n",
       "\n",
       "    .dataframe tbody tr th {\n",
       "        vertical-align: top;\n",
       "    }\n",
       "\n",
       "    .dataframe thead th {\n",
       "        text-align: right;\n",
       "    }\n",
       "</style>\n",
       "<table border=\"1\" class=\"dataframe\">\n",
       "  <thead>\n",
       "    <tr style=\"text-align: right;\">\n",
       "      <th>Predictions</th>\n",
       "      <th>0</th>\n",
       "      <th>1</th>\n",
       "    </tr>\n",
       "    <tr>\n",
       "      <th>Actual</th>\n",
       "      <th></th>\n",
       "      <th></th>\n",
       "    </tr>\n",
       "  </thead>\n",
       "  <tbody>\n",
       "    <tr>\n",
       "      <th>0</th>\n",
       "      <td>26</td>\n",
       "      <td>12</td>\n",
       "    </tr>\n",
       "    <tr>\n",
       "      <th>1</th>\n",
       "      <td>7</td>\n",
       "      <td>47</td>\n",
       "    </tr>\n",
       "  </tbody>\n",
       "</table>\n",
       "</div>"
      ],
      "text/plain": [
       "Predictions   0   1\n",
       "Actual             \n",
       "0            26  12\n",
       "1             7  47"
      ]
     },
     "execution_count": 57,
     "metadata": {},
     "output_type": "execute_result"
    }
   ],
   "source": [
    "predictions_knn_mult_pca15 = knn_mult_pca15.predict(x_test_m_pca15)\n",
    "pd.crosstab(y_test_m15, predictions_knn_mult_pca15, rownames=[\"Actual\"], colnames=['Predictions'])"
   ]
  },
  {
   "cell_type": "markdown",
   "id": "8b68b9c6",
   "metadata": {},
   "source": [
    "## Modelo de regresión logistica"
   ]
  },
  {
   "cell_type": "markdown",
   "id": "3b173e31",
   "metadata": {},
   "source": [
    "### Modelo con datos ómicos del análisis Multivariado"
   ]
  },
  {
   "cell_type": "code",
   "execution_count": 47,
   "id": "d4dded37",
   "metadata": {},
   "outputs": [
    {
     "name": "stdout",
     "output_type": "stream",
     "text": [
      "Test set accuracy: 0.7717391304347826\n"
     ]
    }
   ],
   "source": [
    "# Crea y entrena el clasificador de regresión logística y calcula la precisión en el conjunto de prueba\n",
    "log_mult15 = LogisticRegression()\n",
    "log_mult15.fit(x_train_m15, y_train_m15)\n",
    "score_rl_mult15 = log_mult15.score(x_test_m15, y_test_m15)\n",
    "print('Test set accuracy:', score_rl_mult15)  "
   ]
  },
  {
   "cell_type": "code",
   "execution_count": 48,
   "id": "79647baa",
   "metadata": {},
   "outputs": [
    {
     "data": {
      "text/html": [
       "<div>\n",
       "<style scoped>\n",
       "    .dataframe tbody tr th:only-of-type {\n",
       "        vertical-align: middle;\n",
       "    }\n",
       "\n",
       "    .dataframe tbody tr th {\n",
       "        vertical-align: top;\n",
       "    }\n",
       "\n",
       "    .dataframe thead th {\n",
       "        text-align: right;\n",
       "    }\n",
       "</style>\n",
       "<table border=\"1\" class=\"dataframe\">\n",
       "  <thead>\n",
       "    <tr style=\"text-align: right;\">\n",
       "      <th>Predictions</th>\n",
       "      <th>0</th>\n",
       "      <th>1</th>\n",
       "    </tr>\n",
       "    <tr>\n",
       "      <th>Actual</th>\n",
       "      <th></th>\n",
       "      <th></th>\n",
       "    </tr>\n",
       "  </thead>\n",
       "  <tbody>\n",
       "    <tr>\n",
       "      <th>0</th>\n",
       "      <td>26</td>\n",
       "      <td>12</td>\n",
       "    </tr>\n",
       "    <tr>\n",
       "      <th>1</th>\n",
       "      <td>9</td>\n",
       "      <td>45</td>\n",
       "    </tr>\n",
       "  </tbody>\n",
       "</table>\n",
       "</div>"
      ],
      "text/plain": [
       "Predictions   0   1\n",
       "Actual             \n",
       "0            26  12\n",
       "1             9  45"
      ]
     },
     "execution_count": 48,
     "metadata": {},
     "output_type": "execute_result"
    }
   ],
   "source": [
    "predictions_log_mult15 = log_mult15.predict(x_test_m15)\n",
    "pd.crosstab(y_test_m15, predictions_log_mult15, rownames=[\"Actual\"], colnames=['Predictions'])"
   ]
  },
  {
   "cell_type": "markdown",
   "id": "19558b2d",
   "metadata": {},
   "source": [
    "### Modelo con datos ómicos del análisis Multivariado + PCA"
   ]
  },
  {
   "cell_type": "code",
   "execution_count": 58,
   "id": "d7553991",
   "metadata": {},
   "outputs": [
    {
     "name": "stdout",
     "output_type": "stream",
     "text": [
      "Test set accuracy: 0.7282608695652174\n"
     ]
    }
   ],
   "source": [
    "# Crea y entrena el clasificador de regresión logística y calcula la precisión en el conjunto de prueba\n",
    "log_mult_pca15 = LogisticRegression()\n",
    "log_mult_pca15.fit(x_train_m_pca15, y_train_m15)\n",
    "score_rl_mult_pca15 = log_mult_pca15.score(x_test_m_pca15, y_test_m15)\n",
    "print('Test set accuracy:', score_rl_mult_pca15)  "
   ]
  },
  {
   "cell_type": "code",
   "execution_count": 59,
   "id": "bfd81231",
   "metadata": {},
   "outputs": [
    {
     "data": {
      "text/html": [
       "<div>\n",
       "<style scoped>\n",
       "    .dataframe tbody tr th:only-of-type {\n",
       "        vertical-align: middle;\n",
       "    }\n",
       "\n",
       "    .dataframe tbody tr th {\n",
       "        vertical-align: top;\n",
       "    }\n",
       "\n",
       "    .dataframe thead th {\n",
       "        text-align: right;\n",
       "    }\n",
       "</style>\n",
       "<table border=\"1\" class=\"dataframe\">\n",
       "  <thead>\n",
       "    <tr style=\"text-align: right;\">\n",
       "      <th>Predictions</th>\n",
       "      <th>0</th>\n",
       "      <th>1</th>\n",
       "    </tr>\n",
       "    <tr>\n",
       "      <th>Actual</th>\n",
       "      <th></th>\n",
       "      <th></th>\n",
       "    </tr>\n",
       "  </thead>\n",
       "  <tbody>\n",
       "    <tr>\n",
       "      <th>0</th>\n",
       "      <td>25</td>\n",
       "      <td>13</td>\n",
       "    </tr>\n",
       "    <tr>\n",
       "      <th>1</th>\n",
       "      <td>12</td>\n",
       "      <td>42</td>\n",
       "    </tr>\n",
       "  </tbody>\n",
       "</table>\n",
       "</div>"
      ],
      "text/plain": [
       "Predictions   0   1\n",
       "Actual             \n",
       "0            25  13\n",
       "1            12  42"
      ]
     },
     "execution_count": 59,
     "metadata": {},
     "output_type": "execute_result"
    }
   ],
   "source": [
    "predictions_log_mult_pca15 = log_mult_pca15.predict(x_test_m_pca15)\n",
    "pd.crosstab(y_test_m15, predictions_log_mult_pca15, rownames=[\"Actual\"], colnames=['Predictions'])"
   ]
  },
  {
   "cell_type": "markdown",
   "id": "79d815b2",
   "metadata": {},
   "source": [
    "## Modelo de arboles aleatorios"
   ]
  },
  {
   "cell_type": "markdown",
   "id": "f674b149",
   "metadata": {},
   "source": [
    "### Modelo con datos ómicos del análisis Multivariado"
   ]
  },
  {
   "cell_type": "code",
   "execution_count": 50,
   "id": "63403709",
   "metadata": {},
   "outputs": [
    {
     "name": "stdout",
     "output_type": "stream",
     "text": [
      "Test set accuracy: 0.8369565217391305\n"
     ]
    }
   ],
   "source": [
    "forest_mult15 = RandomForestClassifier(n_jobs=2, oob_score=True, n_estimators=5000)\n",
    "forest_mult15.fit(x_train_m15,y_train_m15)\n",
    "score_forest_mult15 = forest_mult15.score(x_test_m15, y_test_m15)\n",
    "print('Test set accuracy:', score_forest_mult15)  \n"
   ]
  },
  {
   "cell_type": "code",
   "execution_count": 51,
   "id": "270f6aaa",
   "metadata": {},
   "outputs": [
    {
     "data": {
      "text/html": [
       "<div>\n",
       "<style scoped>\n",
       "    .dataframe tbody tr th:only-of-type {\n",
       "        vertical-align: middle;\n",
       "    }\n",
       "\n",
       "    .dataframe tbody tr th {\n",
       "        vertical-align: top;\n",
       "    }\n",
       "\n",
       "    .dataframe thead th {\n",
       "        text-align: right;\n",
       "    }\n",
       "</style>\n",
       "<table border=\"1\" class=\"dataframe\">\n",
       "  <thead>\n",
       "    <tr style=\"text-align: right;\">\n",
       "      <th>Predictions</th>\n",
       "      <th>0</th>\n",
       "      <th>1</th>\n",
       "    </tr>\n",
       "    <tr>\n",
       "      <th>Actual</th>\n",
       "      <th></th>\n",
       "      <th></th>\n",
       "    </tr>\n",
       "  </thead>\n",
       "  <tbody>\n",
       "    <tr>\n",
       "      <th>0</th>\n",
       "      <td>27</td>\n",
       "      <td>11</td>\n",
       "    </tr>\n",
       "    <tr>\n",
       "      <th>1</th>\n",
       "      <td>4</td>\n",
       "      <td>50</td>\n",
       "    </tr>\n",
       "  </tbody>\n",
       "</table>\n",
       "</div>"
      ],
      "text/plain": [
       "Predictions   0   1\n",
       "Actual             \n",
       "0            27  11\n",
       "1             4  50"
      ]
     },
     "execution_count": 51,
     "metadata": {},
     "output_type": "execute_result"
    }
   ],
   "source": [
    "predictions_forest_mult15 = forest_mult15.predict(x_test_m15)\n",
    "pd.crosstab(y_test_m15, predictions_forest_mult15, rownames=[\"Actual\"], colnames=['Predictions'])"
   ]
  },
  {
   "cell_type": "markdown",
   "id": "11ce4de2",
   "metadata": {},
   "source": [
    "### Modelo con datos ómicos del análisis Multivariado + PCA"
   ]
  },
  {
   "cell_type": "code",
   "execution_count": 60,
   "id": "d87d2523",
   "metadata": {},
   "outputs": [
    {
     "name": "stdout",
     "output_type": "stream",
     "text": [
      "Test set accuracy: 0.7717391304347826\n"
     ]
    }
   ],
   "source": [
    "forest_mult_pca15 = RandomForestClassifier(n_jobs=2, oob_score=True, n_estimators=5000)\n",
    "forest_mult_pca15.fit(x_train_m_pca15,y_train_m15)\n",
    "score_forest_mult_pca15 = forest_mult_pca15.score(x_test_m_pca15, y_test_m15)\n",
    "print('Test set accuracy:', score_forest_mult_pca15)  \n"
   ]
  },
  {
   "cell_type": "code",
   "execution_count": 61,
   "id": "51ff2372",
   "metadata": {},
   "outputs": [
    {
     "data": {
      "text/html": [
       "<div>\n",
       "<style scoped>\n",
       "    .dataframe tbody tr th:only-of-type {\n",
       "        vertical-align: middle;\n",
       "    }\n",
       "\n",
       "    .dataframe tbody tr th {\n",
       "        vertical-align: top;\n",
       "    }\n",
       "\n",
       "    .dataframe thead th {\n",
       "        text-align: right;\n",
       "    }\n",
       "</style>\n",
       "<table border=\"1\" class=\"dataframe\">\n",
       "  <thead>\n",
       "    <tr style=\"text-align: right;\">\n",
       "      <th>Predictions</th>\n",
       "      <th>0</th>\n",
       "      <th>1</th>\n",
       "    </tr>\n",
       "    <tr>\n",
       "      <th>Actual</th>\n",
       "      <th></th>\n",
       "      <th></th>\n",
       "    </tr>\n",
       "  </thead>\n",
       "  <tbody>\n",
       "    <tr>\n",
       "      <th>0</th>\n",
       "      <td>23</td>\n",
       "      <td>15</td>\n",
       "    </tr>\n",
       "    <tr>\n",
       "      <th>1</th>\n",
       "      <td>6</td>\n",
       "      <td>48</td>\n",
       "    </tr>\n",
       "  </tbody>\n",
       "</table>\n",
       "</div>"
      ],
      "text/plain": [
       "Predictions   0   1\n",
       "Actual             \n",
       "0            23  15\n",
       "1             6  48"
      ]
     },
     "execution_count": 61,
     "metadata": {},
     "output_type": "execute_result"
    }
   ],
   "source": [
    "predictions_mult_pca15 = forest_mult_pca15.predict(x_test_m_pca15)\n",
    "pd.crosstab(y_test_m15, predictions_mult_pca15, rownames=[\"Actual\"], colnames=['Predictions'])"
   ]
  },
  {
   "cell_type": "code",
   "execution_count": 65,
   "id": "d905960f",
   "metadata": {},
   "outputs": [
    {
     "data": {
      "image/png": "[encoded data removed]",
      "text/plain": [
       "<Figure size 900x700 with 1 Axes>"
      ]
     },
     "metadata": {},
     "output_type": "display_data"
    }
   ],
   "source": [
    "from sklearn.metrics import roc_curve, auc\n",
    "\n",
    "# === Modelos univariados ===\n",
    "probs_knn_u = knn_univar.predict_proba(x_test_u)[:, 1]\n",
    "fpr_knn_u, tpr_knn_u, thresholds_knn_u = roc_curve(y_test_u, probs_knn_u)\n",
    "roc_auc_knn_u = auc(fpr_knn_u, tpr_knn_u)\n",
    "\n",
    "probs_log_u = log_univar.predict_proba(x_test_u)[:, 1]\n",
    "fpr_log_u, tpr_log_u, thresholds_log_u = roc_curve(y_test_u, probs_log_u)\n",
    "roc_auc_log_u = auc(fpr_log_u, tpr_log_u)\n",
    "\n",
    "probs_forest_u = forest_univar.predict_proba(x_test_u)[:, 1]\n",
    "fpr_forest_u, tpr_forest_u, thresholds_forest_u = roc_curve(y_test_u, probs_forest_u)\n",
    "roc_auc_forest_u = auc(fpr_forest_u, tpr_forest_u)\n",
    "\n",
    "\n",
    "# === Modelos multivariados ===\n",
    "probs_knn_m = knn_mult.predict_proba(x_test_m)[:, 1]\n",
    "fpr_knn_m, tpr_knn_m, thresholds_knn_m = roc_curve(y_test_m, probs_knn_m)\n",
    "roc_auc_knn_m = auc(fpr_knn_m, tpr_knn_m)\n",
    "\n",
    "probs_log_m = log_mult.predict_proba(x_test_m)[:, 1]\n",
    "fpr_log_m, tpr_log_m, thresholds_log_m = roc_curve(y_test_m, probs_log_m)\n",
    "roc_auc_log_m = auc(fpr_log_m, tpr_log_m)\n",
    "\n",
    "probs_forest_m = forest_mult.predict_proba(x_test_m)[:, 1]\n",
    "fpr_forest_m, tpr_forest_m, thresholds_forest_m = roc_curve(y_test_m, probs_forest_m)\n",
    "roc_auc_forest_m = auc(fpr_forest_m, tpr_forest_m)\n",
    "\n",
    "\n",
    "# === Modelos multivariados con PCA ===\n",
    "probs_knn_mpca = knn_mult_pca.predict_proba(x_test_m_pca)[:, 1]\n",
    "fpr_knn_mpca, tpr_knn_mpca, thresholds_knn_mpca = roc_curve(y_test_m, probs_knn_mpca)\n",
    "roc_auc_knn_mpca = auc(fpr_knn_mpca, tpr_knn_mpca)\n",
    "\n",
    "probs_log_mpca = log_mult_pca.predict_proba(x_test_m_pca)[:, 1]\n",
    "fpr_log_mpca, tpr_log_mpca, thresholds_log_mpca = roc_curve(y_test_m, probs_log_mpca)\n",
    "roc_auc_log_mpca = auc(fpr_log_mpca, tpr_log_mpca)\n",
    "\n",
    "probs_forest_mpca = forest_mult_pca.predict_proba(x_test_m_pca)[:, 1]\n",
    "fpr_forest_mpca, tpr_forest_mpca, thresholds_forest_mpca = roc_curve(y_test_m, probs_forest_mpca)\n",
    "roc_auc_forest_mpca = auc(fpr_forest_mpca, tpr_forest_mpca)\n",
    "\n",
    "\n",
    "# === Modelos multivariados 15 ===\n",
    "probs_knn_m15 = knn_mult15.predict_proba(x_test_m15)[:, 1]\n",
    "fpr_knn_m15, tpr_knn_m15, thresholds_knn_m15 = roc_curve(y_test_m15, probs_knn_m15)\n",
    "roc_auc_knn_m15 = auc(fpr_knn_m15, tpr_knn_m15)\n",
    "\n",
    "probs_log_m15 = log_mult15.predict_proba(x_test_m15)[:, 1]\n",
    "fpr_log_m15, tpr_log_m15, thresholds_log_m15 = roc_curve(y_test_m15, probs_log_m15)\n",
    "roc_auc_log_m15 = auc(fpr_log_m15, tpr_log_m15)\n",
    "\n",
    "probs_forest_m15 = forest_mult15.predict_proba(x_test_m15)[:, 1]\n",
    "fpr_forest_m15, tpr_forest_m15, thresholds_forest_m15 = roc_curve(y_test_m15, probs_forest_m15)\n",
    "roc_auc_forest_m15 = auc(fpr_forest_m15, tpr_forest_m15)\n",
    "\n",
    "\n",
    "\n",
    "# === Graficar todas las curvas ROC ===\n",
    "plt.figure(figsize=(9,7))\n",
    "\n",
    "plt.plot(fpr_knn_u, tpr_knn_u, label=f'KNN univar (AUC={roc_auc_knn_u:.2f})', color='blue')\n",
    "plt.plot(fpr_log_u, tpr_log_u, label=f'RL univar (AUC={roc_auc_log_u:.2f})', color='green')\n",
    "plt.plot(fpr_forest_u, tpr_forest_u, label=f'RF univar (AUC={roc_auc_forest_u:.2f})', color='red')\n",
    "\n",
    "plt.plot(fpr_knn_m, tpr_knn_m, label=f'KNN multivar (AUC={roc_auc_knn_m:.2f})', color='orange')\n",
    "plt.plot(fpr_log_m, tpr_log_m, label=f'RL multivar (AUC={roc_auc_log_m:.2f})', color='purple')\n",
    "plt.plot(fpr_forest_m, tpr_forest_m, label=f'RF multivar (AUC={roc_auc_forest_m:.2f})', color='brown')\n",
    "\n",
    "plt.plot(fpr_knn_mpca, tpr_knn_mpca, label=f'KNN PCA (AUC={roc_auc_knn_mpca:.2f})', linestyle='--', color='blue')\n",
    "plt.plot(fpr_log_mpca, tpr_log_mpca, label=f'RL PCA (AUC={roc_auc_log_mpca:.2f})', linestyle='--', color='green')\n",
    "plt.plot(fpr_forest_mpca, tpr_forest_mpca, label=f'RF PCA (AUC={roc_auc_forest_mpca:.2f})', linestyle='--', color='red')\n",
    "\n",
    "plt.plot(fpr_knn_m15, tpr_knn_m15, label=f'KNN mult15 (AUC={roc_auc_knn_m15:.2f})', linestyle=':', color='blue')\n",
    "plt.plot(fpr_log_m15, tpr_log_m15, label=f'RL mult15 (AUC={roc_auc_log_m15:.2f})', linestyle=':', color='green')\n",
    "plt.plot(fpr_forest_m15, tpr_forest_m15, label=f'RF mult15 (AUC={roc_auc_forest_m15:.2f})', linestyle=':', color='red')\n",
    "\n",
    "# Línea diagonal\n",
    "plt.plot([0, 1], [0, 1], 'k--')\n",
    "\n",
    "plt.xlabel('False Positive Rate')\n",
    "plt.ylabel('True Positive Rate')\n",
    "plt.title('Curvas ROC comparativas — Modelos Univar / Multivar / PCA / 15')\n",
    "plt.legend(loc='lower right', fontsize=8)\n",
    "plt.grid(True)\n",
    "plt.show()\n"
   ]
  },
  {
   "cell_type": "code",
   "execution_count": 64,
   "id": "9887a8f1",
   "metadata": {},
   "outputs": [
    {
     "data": {
      "image/png": "[encoded data removed]",
      "text/plain": [
       "<Figure size 900x700 with 1 Axes>"
      ]
     },
     "metadata": {},
     "output_type": "display_data"
    }
   ],
   "source": [
    "\n",
    "# === Modelos univariados (dataset _c) con thresholds guardados ===\n",
    "probs_knn_uc = knn_univar_c.predict_proba(x_test_uc)[:, 1]\n",
    "fpr_knn_uc, tpr_knn_uc, thresholds_knn_uc = roc_curve(y_test_uc, probs_knn_uc)\n",
    "roc_auc_knn_uc = auc(fpr_knn_uc, tpr_knn_uc)\n",
    "\n",
    "probs_log_uc = log_univar_c.predict_proba(x_test_uc)[:, 1]\n",
    "fpr_log_uc, tpr_log_uc, thresholds_log_uc = roc_curve(y_test_uc, probs_log_uc)\n",
    "roc_auc_log_uc = auc(fpr_log_uc, tpr_log_uc)\n",
    "\n",
    "probs_forest_uc = forest_univar_c.predict_proba(x_test_uc)[:, 1]\n",
    "fpr_forest_uc, tpr_forest_uc, thresholds_forest_uc = roc_curve(y_test_uc, probs_forest_uc)\n",
    "roc_auc_forest_uc = auc(fpr_forest_uc, tpr_forest_uc)\n",
    "\n",
    "\n",
    "# === Modelos multivariados PCA 15 con thresholds guardados ===\n",
    "probs_knn_mpca15 = knn_mult_pca15.predict_proba(x_test_m_pca15)[:, 1]\n",
    "fpr_knn_mpca15, tpr_knn_mpca15, thresholds_knn_mpca15 = roc_curve(y_test_m15, probs_knn_mpca15)\n",
    "roc_auc_knn_mpca15 = auc(fpr_knn_mpca15, tpr_knn_mpca15)\n",
    "\n",
    "probs_log_mpca15 = log_mult_pca15.predict_proba(x_test_m_pca15)[:, 1]\n",
    "fpr_log_mpca15, tpr_log_mpca15, thresholds_log_mpca15 = roc_curve(y_test_m15, probs_log_mpca15)\n",
    "roc_auc_log_mpca15 = auc(fpr_log_mpca15, tpr_log_mpca15)\n",
    "\n",
    "probs_forest_mpca15 = forest_mult_pca15.predict_proba(x_test_m_pca15)[:, 1]\n",
    "fpr_forest_mpca15, tpr_forest_mpca15, thresholds_forest_mpca15 = roc_curve(y_test_m15, probs_forest_mpca15)\n",
    "roc_auc_forest_mpca15 = auc(fpr_forest_mpca15, tpr_forest_mpca15)\n",
    "\n",
    "\n",
    "# === Graficar las curvas ROC omitidas ===\n",
    "plt.figure(figsize=(9,7))\n",
    "\n",
    "# Univar _c\n",
    "plt.plot(fpr_knn_uc, tpr_knn_uc, label=f'KNN univar_c (AUC={roc_auc_knn_uc:.2f})', color='blue')\n",
    "plt.plot(fpr_log_uc, tpr_log_uc, label=f'RL univar_c (AUC={roc_auc_log_uc:.2f})', color='green')\n",
    "plt.plot(fpr_forest_uc, tpr_forest_uc, label=f'RF univar_c (AUC={roc_auc_forest_uc:.2f})', color='red')\n",
    "\n",
    "# Multivar PCA15\n",
    "plt.plot(fpr_knn_mpca15, tpr_knn_mpca15, label=f'KNN PCA15 (AUC={roc_auc_knn_mpca15:.2f})', linestyle='--', color='blue')\n",
    "plt.plot(fpr_log_mpca15, tpr_log_mpca15, label=f'RL PCA15 (AUC={roc_auc_log_mpca15:.2f})', linestyle='--', color='green')\n",
    "plt.plot(fpr_forest_mpca15, tpr_forest_mpca15, label=f'RF PCA15 (AUC={roc_auc_forest_mpca15:.2f})', linestyle='--', color='red')\n",
    "\n",
    "# Línea diagonal\n",
    "plt.plot([0, 1], [0, 1], 'k--')\n",
    "\n",
    "plt.xlabel('False Positive Rate')\n",
    "plt.ylabel('True Positive Rate')\n",
    "plt.title('Curvas ROC — Modelos omitidos (univar_c / PCA15)')\n",
    "plt.legend(loc='lower right', fontsize=8)\n",
    "plt.grid(True)\n",
    "plt.show()"
   ]
  },
  {
   "cell_type": "markdown",
   "id": "68d0ba22",
   "metadata": {},
   "source": [
    "## Optimización del thresholds"
   ]
  },
  {
   "cell_type": "code",
   "execution_count": 67,
   "id": "7a2886e9",
   "metadata": {},
   "outputs": [
    {
     "data": {
      "text/plain": [
       "np.float64(0.5136623987762325)"
      ]
     },
     "execution_count": 67,
     "metadata": {},
     "output_type": "execute_result"
    }
   ],
   "source": [
    "j = tpr_log_u - fpr_log_u\n",
    "\n",
    "thresholds_log_u[np.argmax(j)]"
   ]
  },
  {
   "cell_type": "code",
   "execution_count": 95,
   "id": "7f5f4038",
   "metadata": {},
   "outputs": [
    {
     "name": "stdout",
     "output_type": "stream",
     "text": [
      "Actual       0   1\n",
      "Prediccion        \n",
      "0           29   5\n",
      "1            9  49\n"
     ]
    }
   ],
   "source": [
    "\n",
    "\n",
    "# DataFrame con probabilidades\n",
    "prob_df = pd.DataFrame(probs_log_u, columns=['probabilidad'])\n",
    "\n",
    "# Threshold óptimo\n",
    "threshold_u = thresholds_log_u[np.argmax(j)]\n",
    "\n",
    "# Predicciones usando el threshold\n",
    "prob_df['prediccion'] = np.where(prob_df['probabilidad'] > 0.51, 1, 0)\n",
    "\n",
    "# Valores reales\n",
    "prob_df['actual'] = y_test_u.reset_index(drop=True)\n",
    "\n",
    "# Matriz de confusión\n",
    "matriz_confusion = pd.crosstab(prob_df['prediccion'], prob_df['actual'],\n",
    "                               rownames=['Prediccion'], colnames=['Actual'])\n",
    "\n",
    "print(matriz_confusion)"
   ]
  },
  {
   "cell_type": "code",
   "execution_count": 69,
   "id": "a89dd490",
   "metadata": {},
   "outputs": [
    {
     "data": {
      "text/plain": [
       "np.float64(0.5848276613912176)"
      ]
     },
     "execution_count": 69,
     "metadata": {},
     "output_type": "execute_result"
    }
   ],
   "source": [
    "jc = tpr_log_uc - fpr_log_uc\n",
    "\n",
    "thresholds_log_uc[np.argmax(jc)]"
   ]
  },
  {
   "cell_type": "code",
   "execution_count": 101,
   "id": "0e70b0cb",
   "metadata": {},
   "outputs": [
    {
     "data": {
      "text/html": [
       "<div>\n",
       "<style scoped>\n",
       "    .dataframe tbody tr th:only-of-type {\n",
       "        vertical-align: middle;\n",
       "    }\n",
       "\n",
       "    .dataframe tbody tr th {\n",
       "        vertical-align: top;\n",
       "    }\n",
       "\n",
       "    .dataframe thead th {\n",
       "        text-align: right;\n",
       "    }\n",
       "</style>\n",
       "<table border=\"1\" class=\"dataframe\">\n",
       "  <thead>\n",
       "    <tr style=\"text-align: right;\">\n",
       "      <th>Actual</th>\n",
       "      <th>0</th>\n",
       "      <th>1</th>\n",
       "    </tr>\n",
       "    <tr>\n",
       "      <th>Prediccion</th>\n",
       "      <th></th>\n",
       "      <th></th>\n",
       "    </tr>\n",
       "  </thead>\n",
       "  <tbody>\n",
       "    <tr>\n",
       "      <th>0</th>\n",
       "      <td>31</td>\n",
       "      <td>9</td>\n",
       "    </tr>\n",
       "    <tr>\n",
       "      <th>1</th>\n",
       "      <td>7</td>\n",
       "      <td>45</td>\n",
       "    </tr>\n",
       "  </tbody>\n",
       "</table>\n",
       "</div>"
      ],
      "text/plain": [
       "Actual       0   1\n",
       "Prediccion        \n",
       "0           31   9\n",
       "1            7  45"
      ]
     },
     "execution_count": 101,
     "metadata": {},
     "output_type": "execute_result"
    }
   ],
   "source": [
    "prob_df_uc = pd.DataFrame(probs_log_uc)\n",
    "therehold_uc = thresholds_log_uc[np.argmax(j)]\n",
    "prob_df_uc['prediccion'] = np.where(prob_df_uc[0]>0.58, 1, 0)\n",
    "prob_df_uc['actual'] = y_test_uc.reset_index(drop=True)\n",
    "matriz_confucion_uc = pd.crosstab(prob_df_uc.prediccion, prob_df_uc.actual, rownames=['Prediccion'], colnames=['Actual'])\n",
    "matriz_confucion_uc"
   ]
  },
  {
   "cell_type": "code",
   "execution_count": null,
   "id": "30d4bc63",
   "metadata": {},
   "outputs": [],
   "source": [
    "probs_forest_u = forest_univar.predict_proba(x_test_u)[:, 1]\n",
    "fpr_forest_u, tpr_forest_u, thresholds_forest_u = roc_curve(y_test_u, probs_forest_u)\n",
    "roc_auc_forest_u = auc(fpr_forest_u, tpr_forest_u)\n"
   ]
  },
  {
   "cell_type": "code",
   "execution_count": 72,
   "id": "b170f80c",
   "metadata": {},
   "outputs": [
    {
     "data": {
      "text/plain": [
       "np.float64(0.606)"
      ]
     },
     "execution_count": 72,
     "metadata": {},
     "output_type": "execute_result"
    }
   ],
   "source": [
    "j_forest_u = tpr_forest_u - fpr_forest_u\n",
    "\n",
    "thresholds_forest_u[np.argmax(j_forest_u)]"
   ]
  },
  {
   "cell_type": "code",
   "execution_count": 79,
   "id": "ebffb004",
   "metadata": {},
   "outputs": [
    {
     "data": {
      "text/html": [
       "<div>\n",
       "<style scoped>\n",
       "    .dataframe tbody tr th:only-of-type {\n",
       "        vertical-align: middle;\n",
       "    }\n",
       "\n",
       "    .dataframe tbody tr th {\n",
       "        vertical-align: top;\n",
       "    }\n",
       "\n",
       "    .dataframe thead th {\n",
       "        text-align: right;\n",
       "    }\n",
       "</style>\n",
       "<table border=\"1\" class=\"dataframe\">\n",
       "  <thead>\n",
       "    <tr style=\"text-align: right;\">\n",
       "      <th>Actual</th>\n",
       "      <th>0</th>\n",
       "      <th>1</th>\n",
       "    </tr>\n",
       "    <tr>\n",
       "      <th>Prediccion</th>\n",
       "      <th></th>\n",
       "      <th></th>\n",
       "    </tr>\n",
       "  </thead>\n",
       "  <tbody>\n",
       "    <tr>\n",
       "      <th>0</th>\n",
       "      <td>30</td>\n",
       "      <td>8</td>\n",
       "    </tr>\n",
       "    <tr>\n",
       "      <th>1</th>\n",
       "      <td>8</td>\n",
       "      <td>46</td>\n",
       "    </tr>\n",
       "  </tbody>\n",
       "</table>\n",
       "</div>"
      ],
      "text/plain": [
       "Actual       0   1\n",
       "Prediccion        \n",
       "0           30   8\n",
       "1            8  46"
      ]
     },
     "execution_count": 79,
     "metadata": {},
     "output_type": "execute_result"
    }
   ],
   "source": [
    "prob_forest_u = pd.DataFrame(probs_log_uc)\n",
    "therehold_fu = thresholds_forest_u[np.argmax(j_forest_u)]\n",
    "prob_forest_u['prediccion'] = np.where(prob_forest_u[0]> 0.54, 1, 0)\n",
    "prob_forest_u['actual'] = y_test_u.reset_index(drop=True)\n",
    "matriz_confucion_uc = pd.crosstab(prob_forest_u.prediccion, prob_forest_u.actual, rownames=['Prediccion'], colnames=['Actual'])\n",
    "matriz_confucion_uc"
   ]
  },
  {
   "cell_type": "markdown",
   "id": "01d4391b",
   "metadata": {},
   "source": [
    "# Modelos de Deep Learning"
   ]
  },
  {
   "cell_type": "code",
   "execution_count": 102,
   "id": "9b8569f1",
   "metadata": {},
   "outputs": [],
   "source": [
    "from keras.models import Sequential\n",
    "from keras.layers import Dense\n",
    "from scikeras.wrappers import KerasClassifier\n",
    "from sklearn.model_selection import cross_val_score, StratifiedKFold"
   ]
  },
  {
   "cell_type": "code",
   "execution_count": 103,
   "id": "18378e09",
   "metadata": {},
   "outputs": [],
   "source": [
    "x = data_omics[columnas_univar]\n",
    "y = data['outcome']"
   ]
  },
  {
   "cell_type": "code",
   "execution_count": 104,
   "id": "adb44530",
   "metadata": {},
   "outputs": [
    {
     "data": {
      "text/plain": [
       "(306, 13)"
      ]
     },
     "execution_count": 104,
     "metadata": {},
     "output_type": "execute_result"
    }
   ],
   "source": [
    "x.shape"
   ]
  },
  {
   "cell_type": "code",
   "execution_count": 110,
   "id": "bca55421",
   "metadata": {},
   "outputs": [
    {
     "name": "stderr",
     "output_type": "stream",
     "text": [
      "c:\\Users\\HP\\anaconda3\\envs\\ciencia_datos\\Lib\\site-packages\\keras\\src\\layers\\core\\dense.py:92: UserWarning: Do not pass an `input_shape`/`input_dim` argument to a layer. When using Sequential models, prefer using an `Input(shape)` object as the first layer in the model instead.\n",
      "  super().__init__(activity_regularizer=activity_regularizer, **kwargs)\n",
      "c:\\Users\\HP\\anaconda3\\envs\\ciencia_datos\\Lib\\site-packages\\keras\\src\\layers\\core\\dense.py:92: UserWarning: Do not pass an `input_shape`/`input_dim` argument to a layer. When using Sequential models, prefer using an `Input(shape)` object as the first layer in the model instead.\n",
      "  super().__init__(activity_regularizer=activity_regularizer, **kwargs)\n",
      "c:\\Users\\HP\\anaconda3\\envs\\ciencia_datos\\Lib\\site-packages\\keras\\src\\layers\\core\\dense.py:92: UserWarning: Do not pass an `input_shape`/`input_dim` argument to a layer. When using Sequential models, prefer using an `Input(shape)` object as the first layer in the model instead.\n",
      "  super().__init__(activity_regularizer=activity_regularizer, **kwargs)\n",
      "c:\\Users\\HP\\anaconda3\\envs\\ciencia_datos\\Lib\\site-packages\\keras\\src\\layers\\core\\dense.py:92: UserWarning: Do not pass an `input_shape`/`input_dim` argument to a layer. When using Sequential models, prefer using an `Input(shape)` object as the first layer in the model instead.\n",
      "  super().__init__(activity_regularizer=activity_regularizer, **kwargs)\n",
      "c:\\Users\\HP\\anaconda3\\envs\\ciencia_datos\\Lib\\site-packages\\keras\\src\\layers\\core\\dense.py:92: UserWarning: Do not pass an `input_shape`/`input_dim` argument to a layer. When using Sequential models, prefer using an `Input(shape)` object as the first layer in the model instead.\n",
      "  super().__init__(activity_regularizer=activity_regularizer, **kwargs)\n",
      "c:\\Users\\HP\\anaconda3\\envs\\ciencia_datos\\Lib\\site-packages\\keras\\src\\layers\\core\\dense.py:92: UserWarning: Do not pass an `input_shape`/`input_dim` argument to a layer. When using Sequential models, prefer using an `Input(shape)` object as the first layer in the model instead.\n",
      "  super().__init__(activity_regularizer=activity_regularizer, **kwargs)\n",
      "c:\\Users\\HP\\anaconda3\\envs\\ciencia_datos\\Lib\\site-packages\\keras\\src\\layers\\core\\dense.py:92: UserWarning: Do not pass an `input_shape`/`input_dim` argument to a layer. When using Sequential models, prefer using an `Input(shape)` object as the first layer in the model instead.\n",
      "  super().__init__(activity_regularizer=activity_regularizer, **kwargs)\n",
      "c:\\Users\\HP\\anaconda3\\envs\\ciencia_datos\\Lib\\site-packages\\keras\\src\\layers\\core\\dense.py:92: UserWarning: Do not pass an `input_shape`/`input_dim` argument to a layer. When using Sequential models, prefer using an `Input(shape)` object as the first layer in the model instead.\n",
      "  super().__init__(activity_regularizer=activity_regularizer, **kwargs)\n",
      "c:\\Users\\HP\\anaconda3\\envs\\ciencia_datos\\Lib\\site-packages\\keras\\src\\layers\\core\\dense.py:92: UserWarning: Do not pass an `input_shape`/`input_dim` argument to a layer. When using Sequential models, prefer using an `Input(shape)` object as the first layer in the model instead.\n",
      "  super().__init__(activity_regularizer=activity_regularizer, **kwargs)\n",
      "c:\\Users\\HP\\anaconda3\\envs\\ciencia_datos\\Lib\\site-packages\\keras\\src\\layers\\core\\dense.py:92: UserWarning: Do not pass an `input_shape`/`input_dim` argument to a layer. When using Sequential models, prefer using an `Input(shape)` object as the first layer in the model instead.\n",
      "  super().__init__(activity_regularizer=activity_regularizer, **kwargs)\n"
     ]
    },
    {
     "name": "stdout",
     "output_type": "stream",
     "text": [
      "Accuracy: 66.01% (7.88%)\n"
     ]
    }
   ],
   "source": [
    "# Modelo base\n",
    "def create_model():\n",
    "    model = Sequential()\n",
    "    model.add(Dense(30, input_dim = 13, activation = 'relu'))\n",
    "    model.add(Dense(25, activation = 'relu'))\n",
    "    model.add(Dense(20, activation = 'relu'))\n",
    "    model.add(Dense(15, activation = 'relu'))\n",
    "    model.add(Dense(1, activation='sigmoid'))\n",
    "\n",
    "    # Compilacion\n",
    "    model.compile(loss = 'binary_crossentropy', optimizer = 'adam', metrics = ['accuracy'])\n",
    "    return model\n",
    "estimator = KerasClassifier(model= create_model,       \n",
    "    epochs=250,\n",
    "    batch_size=35,\n",
    "    verbose=0)\n",
    "\n",
    "kfold = StratifiedKFold(n_splits = 10, shuffle= True)\n",
    "results = cross_val_score(estimator, x, y, cv = kfold)\n",
    "print('Accuracy: %.2f%% (%.2f%%)' % (results.mean()*100, results.std()*100))"
   ]
  }
 ],
 "metadata": {
  "kernelspec": {
   "display_name": "ciencia_datos",
   "language": "python",
   "name": "python3"
  },
  "language_info": {
   "codemirror_mode": {
    "name": "ipython",
    "version": 3
   },
   "file_extension": ".py",
   "mimetype": "text/x-python",
   "name": "python",
   "nbconvert_exporter": "python",
   "pygments_lexer": "ipython3",
   "version": "3.12.7"
  }
 },
 "nbformat": 4,
 "nbformat_minor": 5
}
